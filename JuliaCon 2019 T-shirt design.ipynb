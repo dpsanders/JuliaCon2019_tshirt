{
 "cells": [
  {
   "cell_type": "markdown",
   "metadata": {},
   "source": [
    "# Designing the JuliaCon 2019 T-shirt\n",
    "\n",
    "## Cormullion and David P. Sanders"
   ]
  },
  {
   "cell_type": "markdown",
   "metadata": {},
   "source": [
    "We offered to design some graphics for the JuliaCon 2019 T-shirt. Several ideas were proposed, and were received variously with “meh” or “cool”, and there was much enjoyable bike-shedding. Eventually, a design derived from the [Penrose tiling](https://en.wikipedia.org/wiki/Penrose_tiling) was developed, using Julia code.\n",
    "\n",
    "In this notebook we explain some of the steps in arriving at the final design.\n",
    "\n",
    "The basic drawing was made using [Luxor.jl](https://github.com/JuliaGraphics/Luxor.jl), and the algorithms for resolving the colouring used [SimpleGraphs]( https://github.com/scheinerman/SimpleGraphs.jl)."
   ]
  },
  {
   "cell_type": "markdown",
   "metadata": {},
   "source": [
    "## Penrose tilings"
   ]
  },
  {
   "cell_type": "markdown",
   "metadata": {},
   "source": [
    "A Penrose tiling is a tiling (covering) of the plane using two particular tile types:\n",
    "\n",
    "[FIG of tile types]\n",
    "\n",
    "The surprising thing is that the tiling turns out to be *quasiperiodic*: it never repeats itself, but does \"almost repeat itself\"."
   ]
  },
  {
   "cell_type": "code",
   "execution_count": null,
   "metadata": {},
   "outputs": [],
   "source": []
  },
  {
   "cell_type": "markdown",
   "metadata": {},
   "source": [
    "A common method to produce Penrose tilings is the method of **inflation&ndash;deflation**: we start with a given set of tiles and recursively replace each tile with a certain combination of smaller tiles.\n",
    "\n",
    "![recursive division](recursion.svg)"
   ]
  },
  {
   "cell_type": "markdown",
   "metadata": {},
   "source": [
    "In this implementation, we build everything out of triangles, represented by the following `struct`. \n",
    "Here, `A`, `B` and `C` are the 3 points in the triangle, `Point` is a type from `Luxor` representing the coordinates of a point in 2D, and `flag` is a Boolean variable representing the \"type\" of triangle."
   ]
  },
  {
   "cell_type": "code",
   "execution_count": 1,
   "metadata": {},
   "outputs": [
    {
     "name": "stderr",
     "output_type": "stream",
     "text": [
      "┌ Info: Recompiling stale cache file /Users/pete/.julia/compiled/v1.1/Luxor/HA9ps.ji for Luxor [ae8d54c2-7ccd-5906-9d76-62fc9837b5bc]\n",
      "└ @ Base loading.jl:1184\n"
     ]
    }
   ],
   "source": [
    "using Luxor\n",
    "\n",
    "struct Triangle\n",
    "    flag::Bool \n",
    "    A::Point\n",
    "    B::Point\n",
    "    C::Point\n",
    "end"
   ]
  },
  {
   "cell_type": "markdown",
   "metadata": {},
   "source": [
    "We start by generating $n$ triangles in a circle with center $c$ and radius $r$. The `polar` function generates a vector with given radius and angle"
   ]
  },
  {
   "cell_type": "code",
   "execution_count": 2,
   "metadata": {},
   "outputs": [
    {
     "data": {
      "text/plain": [
       "initialize (generic function with 1 method)"
      ]
     },
     "execution_count": 2,
     "metadata": {},
     "output_type": "execute_result"
    }
   ],
   "source": [
    "function initialize(center::Point, n)\n",
    "    A = center\n",
    "    r = 100\n",
    "    triangles = Triangle[]\n",
    "    for i in 1:n\n",
    "        ϕ = (i - 1) * (2π / n)\n",
    "        C = A + polar(r, ϕ)\n",
    "        \n",
    "        ϕ = (i) * (2π / n)\n",
    "        B = A + polar(r, ϕ)\n",
    "        \n",
    "        if i % 2 == 1\n",
    "            triangle = Triangle(true, B, A, C)\n",
    "        else\n",
    "            triangle = Triangle(true, C, A, B)\n",
    "        end\n",
    "        \n",
    "        push!(triangles, triangle)\n",
    "    end\n",
    "    \n",
    "    return triangles\n",
    "end"
   ]
  },
  {
   "cell_type": "markdown",
   "metadata": {},
   "source": [
    "Let's draw these triangles. For now we can just apply a polygon-drawing function `poly()` to the points. (And we're currently working in global scope, which you'll want to be aware of.)"
   ]
  },
  {
   "cell_type": "code",
   "execution_count": 22,
   "metadata": {},
   "outputs": [
    {
     "data": {
      "image/svg+xml": [
       "<?xml version=\"1.0\" encoding=\"UTF-8\"?>\n",
       "<svg xmlns=\"http://www.w3.org/2000/svg\" xmlns:xlink=\"http://www.w3.org/1999/xlink\" width=\"500pt\" height=\"300pt\" viewBox=\"0 0 500 300\" version=\"1.1\">\n",
       "<g id=\"surface16\">\n",
       "<rect x=\"0\" y=\"0\" width=\"500\" height=\"300\" style=\"fill:rgb(100%,100%,100%);fill-opacity:1;stroke:none;\"/>\n",
       "<path style=\"fill:none;stroke-width:2;stroke-linecap:butt;stroke-linejoin:miter;stroke:rgb(12.405839%,28.110284%,3.8081%);stroke-opacity:1;stroke-miterlimit:10;\" d=\"M 330.902344 208.777344 L 250 150 L 350 150 Z M 330.902344 208.777344 \"/>\n",
       "<path style=\"fill:none;stroke-width:2;stroke-linecap:butt;stroke-linejoin:miter;stroke:rgb(48.051362%,98.439932%,38.670936%);stroke-opacity:1;stroke-miterlimit:10;\" d=\"M 330.902344 208.777344 L 250 150 L 280.902344 245.105469 Z M 330.902344 208.777344 \"/>\n",
       "<path style=\"fill:none;stroke-width:2;stroke-linecap:butt;stroke-linejoin:miter;stroke:rgb(64.473728%,92.645024%,39.011379%);stroke-opacity:1;stroke-miterlimit:10;\" d=\"M 219.097656 245.105469 L 250 150 L 280.902344 245.105469 Z M 219.097656 245.105469 \"/>\n",
       "<path style=\"fill:none;stroke-width:2;stroke-linecap:butt;stroke-linejoin:miter;stroke:rgb(16.879214%,71.546821%,40.505772%);stroke-opacity:1;stroke-miterlimit:10;\" d=\"M 219.097656 245.105469 L 250 150 L 169.097656 208.777344 Z M 219.097656 245.105469 \"/>\n",
       "<path style=\"fill:none;stroke-width:2;stroke-linecap:butt;stroke-linejoin:miter;stroke:rgb(65.313631%,96.419901%,26.801844%);stroke-opacity:1;stroke-miterlimit:10;\" d=\"M 150 150 L 250 150 L 169.097656 208.777344 Z M 150 150 \"/>\n",
       "<path style=\"fill:none;stroke-width:2;stroke-linecap:butt;stroke-linejoin:miter;stroke:rgb(99.995983%,66.224286%,36.309465%);stroke-opacity:1;stroke-miterlimit:10;\" d=\"M 150 150 L 250 150 L 169.097656 91.222656 Z M 150 150 \"/>\n",
       "<path style=\"fill:none;stroke-width:2;stroke-linecap:butt;stroke-linejoin:miter;stroke:rgb(99.029452%,18.67464%,59.841389%);stroke-opacity:1;stroke-miterlimit:10;\" d=\"M 219.097656 54.894531 L 250 150 L 169.097656 91.222656 Z M 219.097656 54.894531 \"/>\n",
       "<path style=\"fill:none;stroke-width:2;stroke-linecap:butt;stroke-linejoin:miter;stroke:rgb(19.496633%,8.900955%,15.850131%);stroke-opacity:1;stroke-miterlimit:10;\" d=\"M 219.097656 54.894531 L 250 150 L 280.902344 54.894531 Z M 219.097656 54.894531 \"/>\n",
       "<path style=\"fill:none;stroke-width:2;stroke-linecap:butt;stroke-linejoin:miter;stroke:rgb(4.739373%,20.501264%,89.682078%);stroke-opacity:1;stroke-miterlimit:10;\" d=\"M 330.902344 91.222656 L 250 150 L 280.902344 54.894531 Z M 330.902344 91.222656 \"/>\n",
       "<path style=\"fill:none;stroke-width:2;stroke-linecap:butt;stroke-linejoin:miter;stroke:rgb(4.965161%,98.967998%,77.682194%);stroke-opacity:1;stroke-miterlimit:10;\" d=\"M 330.902344 91.222656 L 250 150 L 350 150 Z M 330.902344 91.222656 \"/>\n",
       "</g>\n",
       "</svg>\n"
      ]
     },
     "metadata": {},
     "output_type": "display_data"
    }
   ],
   "source": [
    "@svg begin\n",
    "    for triangle in initialize(O, 10)\n",
    "        randomhue()\n",
    "        poly([triangle.A, triangle.B, triangle.C], close=true, :stroke)\n",
    "    end\n",
    "end 500 300 \"figure1\""
   ]
  },
  {
   "cell_type": "markdown",
   "metadata": {},
   "source": [
    "Now we subdivide recursively using the following function:"
   ]
  },
  {
   "cell_type": "code",
   "execution_count": 4,
   "metadata": {},
   "outputs": [
    {
     "data": {
      "text/plain": [
       "subdivide (generic function with 1 method)"
      ]
     },
     "execution_count": 4,
     "metadata": {},
     "output_type": "execute_result"
    }
   ],
   "source": [
    "function subdivide(triangles::Vector{Triangle})\n",
    "    \n",
    "    result = Triangle[]\n",
    "    \n",
    "    for triangle in triangles\n",
    "        A, B, C = triangle.A, triangle.B, triangle.C\n",
    "\n",
    "        if triangle.flag\n",
    "            Q = A + (B - A) / MathConstants.golden\n",
    "            R = B + (C - B) / MathConstants.golden\n",
    "            \n",
    "            push!(result, Triangle(false, R, Q, B))\n",
    "            push!(result, Triangle(true,  Q, A, R))\n",
    "            push!(result, Triangle(true,  C, A, R))\n",
    "\n",
    "        else           \n",
    "            P = C + (A - C) / MathConstants.golden\n",
    "            \n",
    "            push!(result, Triangle(false, B, P, A))\n",
    "            push!(result, Triangle(true,  P, C, B))\n",
    "        end\n",
    "    end\n",
    "    \n",
    "    return result\n",
    "end"
   ]
  },
  {
   "cell_type": "markdown",
   "metadata": {},
   "source": [
    "Let's see the result of a single subdivisions."
   ]
  },
  {
   "cell_type": "code",
   "execution_count": 5,
   "metadata": {},
   "outputs": [
    {
     "data": {
      "image/svg+xml": [
       "<?xml version=\"1.0\" encoding=\"UTF-8\"?>\n",
       "<svg xmlns=\"http://www.w3.org/2000/svg\" xmlns:xlink=\"http://www.w3.org/1999/xlink\" width=\"500pt\" height=\"300pt\" viewBox=\"0 0 500 300\" version=\"1.1\">\n",
       "<g id=\"surface6\">\n",
       "<rect x=\"0\" y=\"0\" width=\"500\" height=\"300\" style=\"fill:rgb(100%,100%,100%);fill-opacity:1;stroke:none;\"/>\n",
       "<path style=\"fill:none;stroke-width:2;stroke-linecap:butt;stroke-linejoin:miter;stroke:rgb(0%,0%,0%);stroke-opacity:1;stroke-miterlimit:10;\" d=\"M 330.902344 208.777344 L 250 150 L 350 150 Z M 330.902344 208.777344 \"/>\n",
       "<path style=\"fill:none;stroke-width:2;stroke-linecap:butt;stroke-linejoin:miter;stroke:rgb(0%,0%,0%);stroke-opacity:1;stroke-miterlimit:10;\" d=\"M 330.902344 208.777344 L 250 150 L 280.902344 245.105469 Z M 330.902344 208.777344 \"/>\n",
       "<path style=\"fill:none;stroke-width:2;stroke-linecap:butt;stroke-linejoin:miter;stroke:rgb(0%,0%,0%);stroke-opacity:1;stroke-miterlimit:10;\" d=\"M 219.097656 245.105469 L 250 150 L 280.902344 245.105469 Z M 219.097656 245.105469 \"/>\n",
       "<path style=\"fill:none;stroke-width:2;stroke-linecap:butt;stroke-linejoin:miter;stroke:rgb(0%,0%,0%);stroke-opacity:1;stroke-miterlimit:10;\" d=\"M 219.097656 245.105469 L 250 150 L 169.097656 208.777344 Z M 219.097656 245.105469 \"/>\n",
       "<path style=\"fill:none;stroke-width:2;stroke-linecap:butt;stroke-linejoin:miter;stroke:rgb(0%,0%,0%);stroke-opacity:1;stroke-miterlimit:10;\" d=\"M 150 150 L 250 150 L 169.097656 208.777344 Z M 150 150 \"/>\n",
       "<path style=\"fill:none;stroke-width:2;stroke-linecap:butt;stroke-linejoin:miter;stroke:rgb(0%,0%,0%);stroke-opacity:1;stroke-miterlimit:10;\" d=\"M 150 150 L 250 150 L 169.097656 91.222656 Z M 150 150 \"/>\n",
       "<path style=\"fill:none;stroke-width:2;stroke-linecap:butt;stroke-linejoin:miter;stroke:rgb(0%,0%,0%);stroke-opacity:1;stroke-miterlimit:10;\" d=\"M 219.097656 54.894531 L 250 150 L 169.097656 91.222656 Z M 219.097656 54.894531 \"/>\n",
       "<path style=\"fill:none;stroke-width:2;stroke-linecap:butt;stroke-linejoin:miter;stroke:rgb(0%,0%,0%);stroke-opacity:1;stroke-miterlimit:10;\" d=\"M 219.097656 54.894531 L 250 150 L 280.902344 54.894531 Z M 219.097656 54.894531 \"/>\n",
       "<path style=\"fill:none;stroke-width:2;stroke-linecap:butt;stroke-linejoin:miter;stroke:rgb(0%,0%,0%);stroke-opacity:1;stroke-miterlimit:10;\" d=\"M 330.902344 91.222656 L 250 150 L 280.902344 54.894531 Z M 330.902344 91.222656 \"/>\n",
       "<path style=\"fill:none;stroke-width:2;stroke-linecap:butt;stroke-linejoin:miter;stroke:rgb(0%,0%,0%);stroke-opacity:1;stroke-miterlimit:10;\" d=\"M 330.902344 91.222656 L 250 150 L 350 150 Z M 330.902344 91.222656 \"/>\n",
       "<path style=\" stroke:none;fill-rule:nonzero;fill:rgb(3.808056%,63.24356%,37.994307%);fill-opacity:0.5;\" d=\"M 311.804688 150 L 280.902344 172.453125 L 250 150 Z M 311.804688 150 \"/>\n",
       "<path style=\" stroke:none;fill-rule:nonzero;fill:rgb(44.48805%,24.885519%,39.013098%);fill-opacity:0.5;\" d=\"M 280.902344 172.453125 L 330.902344 208.777344 L 311.804688 150 Z M 280.902344 172.453125 \"/>\n",
       "<path style=\" stroke:none;fill-rule:nonzero;fill:rgb(20.906301%,17.33812%,58.178398%);fill-opacity:0.5;\" d=\"M 350 150 L 330.902344 208.777344 L 311.804688 150 Z M 350 150 \"/>\n",
       "<path style=\" stroke:none;fill-rule:nonzero;fill:rgb(44.176294%,72.996076%,98.384821%);fill-opacity:0.5;\" d=\"M 269.097656 208.777344 L 280.902344 172.453125 L 250 150 Z M 269.097656 208.777344 \"/>\n",
       "<path style=\" stroke:none;fill-rule:nonzero;fill:rgb(69.354016%,81.160932%,88.845549%);fill-opacity:0.5;\" d=\"M 280.902344 172.453125 L 330.902344 208.777344 L 269.097656 208.777344 Z M 280.902344 172.453125 \"/>\n",
       "<path style=\" stroke:none;fill-rule:nonzero;fill:rgb(67.395986%,45.432586%,84.749672%);fill-opacity:0.5;\" d=\"M 280.902344 245.105469 L 330.902344 208.777344 L 269.097656 208.777344 Z M 280.902344 245.105469 \"/>\n",
       "<path style=\" stroke:none;fill-rule:nonzero;fill:rgb(56.733632%,68.981393%,12.047226%);fill-opacity:0.5;\" d=\"M 269.097656 208.777344 L 238.195312 186.328125 L 250 150 Z M 269.097656 208.777344 \"/>\n",
       "<path style=\" stroke:none;fill-rule:nonzero;fill:rgb(89.997177%,8.301182%,86.404554%);fill-opacity:0.5;\" d=\"M 238.195312 186.328125 L 219.097656 245.105469 L 269.097656 208.777344 Z M 238.195312 186.328125 \"/>\n",
       "<path style=\" stroke:none;fill-rule:nonzero;fill:rgb(27.575193%,69.612013%,45.613184%);fill-opacity:0.5;\" d=\"M 280.902344 245.105469 L 219.097656 245.105469 L 269.097656 208.777344 Z M 280.902344 245.105469 \"/>\n",
       "<path style=\" stroke:none;fill-rule:nonzero;fill:rgb(31.734033%,39.486363%,36.45255%);fill-opacity:0.5;\" d=\"M 200 186.328125 L 238.195312 186.328125 L 250 150 Z M 200 186.328125 \"/>\n",
       "<path style=\" stroke:none;fill-rule:nonzero;fill:rgb(16.187075%,21.408079%,81.960564%);fill-opacity:0.5;\" d=\"M 238.195312 186.328125 L 219.097656 245.105469 L 200 186.328125 Z M 238.195312 186.328125 \"/>\n",
       "<path style=\" stroke:none;fill-rule:nonzero;fill:rgb(27.53254%,17.18367%,51.64378%);fill-opacity:0.5;\" d=\"M 169.097656 208.777344 L 219.097656 245.105469 L 200 186.328125 Z M 169.097656 208.777344 \"/>\n",
       "<path style=\" stroke:none;fill-rule:nonzero;fill:rgb(1.79055%,86.817199%,54.275049%);fill-opacity:0.5;\" d=\"M 200 186.328125 L 211.804688 150 L 250 150 Z M 200 186.328125 \"/>\n",
       "<path style=\" stroke:none;fill-rule:nonzero;fill:rgb(41.976226%,79.413582%,84.204189%);fill-opacity:0.5;\" d=\"M 211.804688 150 L 150 150 L 200 186.328125 Z M 211.804688 150 \"/>\n",
       "<path style=\" stroke:none;fill-rule:nonzero;fill:rgb(5.411477%,80.002503%,25.830318%);fill-opacity:0.5;\" d=\"M 169.097656 208.777344 L 150 150 L 200 186.328125 Z M 169.097656 208.777344 \"/>\n",
       "<path style=\" stroke:none;fill-rule:nonzero;fill:rgb(14.519069%,6.937693%,17.923316%);fill-opacity:0.5;\" d=\"M 200 113.671875 L 211.804688 150 L 250 150 Z M 200 113.671875 \"/>\n",
       "<path style=\" stroke:none;fill-rule:nonzero;fill:rgb(2.133589%,54.832015%,98.810029%);fill-opacity:0.5;\" d=\"M 211.804688 150 L 150 150 L 200 113.671875 Z M 211.804688 150 \"/>\n",
       "<path style=\" stroke:none;fill-rule:nonzero;fill:rgb(10.003623%,5.981977%,52.753962%);fill-opacity:0.5;\" d=\"M 169.097656 91.222656 L 150 150 L 200 113.671875 Z M 169.097656 91.222656 \"/>\n",
       "<path style=\" stroke:none;fill-rule:nonzero;fill:rgb(3.331933%,44.22567%,63.585624%);fill-opacity:0.5;\" d=\"M 200 113.671875 L 238.195312 113.671875 L 250 150 Z M 200 113.671875 \"/>\n",
       "<path style=\" stroke:none;fill-rule:nonzero;fill:rgb(87.306599%,6.539426%,25.85016%);fill-opacity:0.5;\" d=\"M 238.195312 113.671875 L 219.097656 54.894531 L 200 113.671875 Z M 238.195312 113.671875 \"/>\n",
       "<path style=\" stroke:none;fill-rule:nonzero;fill:rgb(68.19547%,14.643342%,93.885388%);fill-opacity:0.5;\" d=\"M 169.097656 91.222656 L 219.097656 54.894531 L 200 113.671875 Z M 169.097656 91.222656 \"/>\n",
       "<path style=\" stroke:none;fill-rule:nonzero;fill:rgb(80.416673%,40.897802%,23.15585%);fill-opacity:0.5;\" d=\"M 269.097656 91.222656 L 238.195312 113.671875 L 250 150 Z M 269.097656 91.222656 \"/>\n",
       "<path style=\" stroke:none;fill-rule:nonzero;fill:rgb(8.293962%,81.145089%,70.40979%);fill-opacity:0.5;\" d=\"M 238.195312 113.671875 L 219.097656 54.894531 L 269.097656 91.222656 Z M 238.195312 113.671875 \"/>\n",
       "<path style=\" stroke:none;fill-rule:nonzero;fill:rgb(46.849014%,74.088947%,88.600266%);fill-opacity:0.5;\" d=\"M 280.902344 54.894531 L 219.097656 54.894531 L 269.097656 91.222656 Z M 280.902344 54.894531 \"/>\n",
       "<path style=\" stroke:none;fill-rule:nonzero;fill:rgb(77.052479%,95.448124%,89.96657%);fill-opacity:0.5;\" d=\"M 269.097656 91.222656 L 280.902344 127.546875 L 250 150 Z M 269.097656 91.222656 \"/>\n",
       "<path style=\" stroke:none;fill-rule:nonzero;fill:rgb(52.234943%,6.289971%,39.187468%);fill-opacity:0.5;\" d=\"M 280.902344 127.546875 L 330.902344 91.222656 L 269.097656 91.222656 Z M 280.902344 127.546875 \"/>\n",
       "<path style=\" stroke:none;fill-rule:nonzero;fill:rgb(91.194157%,29.172966%,36.046727%);fill-opacity:0.5;\" d=\"M 280.902344 54.894531 L 330.902344 91.222656 L 269.097656 91.222656 Z M 280.902344 54.894531 \"/>\n",
       "<path style=\" stroke:none;fill-rule:nonzero;fill:rgb(39.163208%,3.208328%,27.783121%);fill-opacity:0.5;\" d=\"M 311.804688 150 L 280.902344 127.546875 L 250 150 Z M 311.804688 150 \"/>\n",
       "<path style=\" stroke:none;fill-rule:nonzero;fill:rgb(83.878615%,88.886149%,2.767714%);fill-opacity:0.5;\" d=\"M 280.902344 127.546875 L 330.902344 91.222656 L 311.804688 150 Z M 280.902344 127.546875 \"/>\n",
       "<path style=\" stroke:none;fill-rule:nonzero;fill:rgb(53.231618%,20.206734%,98.445754%);fill-opacity:0.5;\" d=\"M 350 150 L 330.902344 91.222656 L 311.804688 150 Z M 350 150 \"/>\n",
       "</g>\n",
       "</svg>\n"
      ]
     },
     "metadata": {},
     "output_type": "display_data"
    }
   ],
   "source": [
    "@svg begin\n",
    "    initialtriangles = initialize(O, 10)\n",
    "    \n",
    "    for triangle in initialtriangles\n",
    "        poly([triangle.A, triangle.B, triangle.C], close=true, :stroke)\n",
    "    end\n",
    "    \n",
    "    triangles = subdivide(initialtriangles)\n",
    "\n",
    "    setopacity(0.5)\n",
    "    \n",
    "    for triangle in triangles\n",
    "        randomhue()\n",
    "        poly([triangle.A, triangle.B, triangle.C], close=true, :fill)\n",
    "    end\n",
    "end 500 300 \"figure2\""
   ]
  },
  {
   "cell_type": "code",
   "execution_count": 6,
   "metadata": {},
   "outputs": [
    {
     "ename": "LoadError",
     "evalue": "syntax: extra token \"you\" after end of expression",
     "output_type": "error",
     "traceback": [
      "syntax: extra token \"you\" after end of expression",
      ""
     ]
    }
   ],
   "source": [
    "If you repeat the subdivision, you quickly build up a rich pattern."
   ]
  },
  {
   "cell_type": "code",
   "execution_count": 7,
   "metadata": {},
   "outputs": [
    {
     "data": {
      "image/svg+xml": [
       "<?xml version=\"1.0\" encoding=\"UTF-8\"?>\n",
       "<svg xmlns=\"http://www.w3.org/2000/svg\" xmlns:xlink=\"http://www.w3.org/1999/xlink\" width=\"500pt\" height=\"300pt\" viewBox=\"0 0 500 300\" version=\"1.1\">\n",
       "<g id=\"surface11\">\n",
       "<rect x=\"0\" y=\"0\" width=\"500\" height=\"300\" style=\"fill:rgb(100%,100%,100%);fill-opacity:1;stroke:none;\"/>\n",
       "<path style=\"fill:none;stroke-width:2;stroke-linecap:butt;stroke-linejoin:miter;stroke:rgb(0%,0%,0%);stroke-opacity:1;stroke-miterlimit:10;\" d=\"M 330.902344 208.777344 L 250 150 L 350 150 Z M 330.902344 208.777344 \"/>\n",
       "<path style=\"fill:none;stroke-width:2;stroke-linecap:butt;stroke-linejoin:miter;stroke:rgb(0%,0%,0%);stroke-opacity:1;stroke-miterlimit:10;\" d=\"M 330.902344 208.777344 L 250 150 L 280.902344 245.105469 Z M 330.902344 208.777344 \"/>\n",
       "<path style=\"fill:none;stroke-width:2;stroke-linecap:butt;stroke-linejoin:miter;stroke:rgb(0%,0%,0%);stroke-opacity:1;stroke-miterlimit:10;\" d=\"M 219.097656 245.105469 L 250 150 L 280.902344 245.105469 Z M 219.097656 245.105469 \"/>\n",
       "<path style=\"fill:none;stroke-width:2;stroke-linecap:butt;stroke-linejoin:miter;stroke:rgb(0%,0%,0%);stroke-opacity:1;stroke-miterlimit:10;\" d=\"M 219.097656 245.105469 L 250 150 L 169.097656 208.777344 Z M 219.097656 245.105469 \"/>\n",
       "<path style=\"fill:none;stroke-width:2;stroke-linecap:butt;stroke-linejoin:miter;stroke:rgb(0%,0%,0%);stroke-opacity:1;stroke-miterlimit:10;\" d=\"M 150 150 L 250 150 L 169.097656 208.777344 Z M 150 150 \"/>\n",
       "<path style=\"fill:none;stroke-width:2;stroke-linecap:butt;stroke-linejoin:miter;stroke:rgb(0%,0%,0%);stroke-opacity:1;stroke-miterlimit:10;\" d=\"M 150 150 L 250 150 L 169.097656 91.222656 Z M 150 150 \"/>\n",
       "<path style=\"fill:none;stroke-width:2;stroke-linecap:butt;stroke-linejoin:miter;stroke:rgb(0%,0%,0%);stroke-opacity:1;stroke-miterlimit:10;\" d=\"M 219.097656 54.894531 L 250 150 L 169.097656 91.222656 Z M 219.097656 54.894531 \"/>\n",
       "<path style=\"fill:none;stroke-width:2;stroke-linecap:butt;stroke-linejoin:miter;stroke:rgb(0%,0%,0%);stroke-opacity:1;stroke-miterlimit:10;\" d=\"M 219.097656 54.894531 L 250 150 L 280.902344 54.894531 Z M 219.097656 54.894531 \"/>\n",
       "<path style=\"fill:none;stroke-width:2;stroke-linecap:butt;stroke-linejoin:miter;stroke:rgb(0%,0%,0%);stroke-opacity:1;stroke-miterlimit:10;\" d=\"M 330.902344 91.222656 L 250 150 L 280.902344 54.894531 Z M 330.902344 91.222656 \"/>\n",
       "<path style=\"fill:none;stroke-width:2;stroke-linecap:butt;stroke-linejoin:miter;stroke:rgb(0%,0%,0%);stroke-opacity:1;stroke-miterlimit:10;\" d=\"M 330.902344 91.222656 L 250 150 L 350 150 Z M 330.902344 91.222656 \"/>\n",
       "<path style=\" stroke:none;fill-rule:nonzero;fill:rgb(26.204659%,3.445893%,13.297606%);fill-opacity:0.5;\" d=\"M 288.195312 150 L 292.707031 163.875 L 280.902344 172.453125 Z M 288.195312 150 \"/>\n",
       "<path style=\" stroke:none;fill-rule:nonzero;fill:rgb(98.933203%,23.276163%,87.913921%);fill-opacity:0.5;\" d=\"M 292.707031 163.875 L 311.804688 150 L 288.195312 150 Z M 292.707031 163.875 \"/>\n",
       "<path style=\" stroke:none;fill-rule:nonzero;fill:rgb(21.230398%,13.624353%,50.497885%);fill-opacity:0.5;\" d=\"M 269.097656 163.875 L 264.589844 150 L 250 150 Z M 269.097656 163.875 \"/>\n",
       "<path style=\" stroke:none;fill-rule:nonzero;fill:rgb(36.858259%,90.957966%,44.877377%);fill-opacity:0.5;\" d=\"M 264.589844 150 L 288.195312 150 L 269.097656 163.875 Z M 264.589844 150 \"/>\n",
       "<path style=\" stroke:none;fill-rule:nonzero;fill:rgb(30.083726%,18.86853%,26.740218%);fill-opacity:0.5;\" d=\"M 280.902344 172.453125 L 288.195312 150 L 269.097656 163.875 Z M 280.902344 172.453125 \"/>\n",
       "<path style=\" stroke:none;fill-rule:nonzero;fill:rgb(19.847977%,32.469099%,58.580807%);fill-opacity:0.5;\" d=\"M 311.804688 194.902344 L 323.605469 186.328125 L 319.097656 172.453125 Z M 311.804688 194.902344 \"/>\n",
       "<path style=\" stroke:none;fill-rule:nonzero;fill:rgb(43.737063%,51.276515%,85.991087%);fill-opacity:0.5;\" d=\"M 323.605469 186.328125 L 330.902344 208.777344 L 311.804688 194.902344 Z M 323.605469 186.328125 \"/>\n",
       "<path style=\" stroke:none;fill-rule:nonzero;fill:rgb(74.965876%,39.329369%,72.429754%);fill-opacity:0.5;\" d=\"M 304.507812 172.453125 L 292.707031 181.027344 L 280.902344 172.453125 Z M 304.507812 172.453125 \"/>\n",
       "<path style=\" stroke:none;fill-rule:nonzero;fill:rgb(68.727243%,50.712442%,53.054687%);fill-opacity:0.5;\" d=\"M 292.707031 181.027344 L 311.804688 194.902344 L 304.507812 172.453125 Z M 292.707031 181.027344 \"/>\n",
       "<path style=\" stroke:none;fill-rule:nonzero;fill:rgb(74.491396%,39.730083%,19.564172%);fill-opacity:0.5;\" d=\"M 319.097656 172.453125 L 311.804688 194.902344 L 304.507812 172.453125 Z M 319.097656 172.453125 \"/>\n",
       "<path style=\" stroke:none;fill-rule:nonzero;fill:rgb(58.697704%,17.270606%,10.501565%);fill-opacity:0.5;\" d=\"M 304.507812 172.453125 L 292.707031 163.875 L 280.902344 172.453125 Z M 304.507812 172.453125 \"/>\n",
       "<path style=\" stroke:none;fill-rule:nonzero;fill:rgb(93.924011%,77.011963%,52.322463%);fill-opacity:0.5;\" d=\"M 292.707031 163.875 L 311.804688 150 L 304.507812 172.453125 Z M 292.707031 163.875 \"/>\n",
       "<path style=\" stroke:none;fill-rule:nonzero;fill:rgb(93.796758%,79.011635%,62.978153%);fill-opacity:0.5;\" d=\"M 319.097656 172.453125 L 311.804688 150 L 304.507812 172.453125 Z M 319.097656 172.453125 \"/>\n",
       "<path style=\" stroke:none;fill-rule:nonzero;fill:rgb(69.121512%,3.608193%,51.409053%);fill-opacity:0.5;\" d=\"M 338.195312 186.328125 L 323.605469 186.328125 L 319.097656 172.453125 Z M 338.195312 186.328125 \"/>\n",
       "<path style=\" stroke:none;fill-rule:nonzero;fill:rgb(12.805174%,83.780184%,67.892682%);fill-opacity:0.5;\" d=\"M 323.605469 186.328125 L 330.902344 208.777344 L 338.195312 186.328125 Z M 323.605469 186.328125 \"/>\n",
       "<path style=\" stroke:none;fill-rule:nonzero;fill:rgb(26.853713%,57.054791%,83.300696%);fill-opacity:0.5;\" d=\"M 330.902344 163.875 L 345.492188 163.875 L 350 150 Z M 330.902344 163.875 \"/>\n",
       "<path style=\" stroke:none;fill-rule:nonzero;fill:rgb(79.353912%,97.822332%,44.058724%);fill-opacity:0.5;\" d=\"M 345.492188 163.875 L 338.195312 186.328125 L 330.902344 163.875 Z M 345.492188 163.875 \"/>\n",
       "<path style=\" stroke:none;fill-rule:nonzero;fill:rgb(92.418064%,3.322251%,67.257497%);fill-opacity:0.5;\" d=\"M 319.097656 172.453125 L 338.195312 186.328125 L 330.902344 163.875 Z M 319.097656 172.453125 \"/>\n",
       "<path style=\" stroke:none;fill-rule:nonzero;fill:rgb(39.073283%,30.069241%,45.316421%);fill-opacity:0.5;\" d=\"M 330.902344 163.875 L 335.410156 150 L 350 150 Z M 330.902344 163.875 \"/>\n",
       "<path style=\" stroke:none;fill-rule:nonzero;fill:rgb(44.696224%,86.685491%,49.738693%);fill-opacity:0.5;\" d=\"M 335.410156 150 L 311.804688 150 L 330.902344 163.875 Z M 335.410156 150 \"/>\n",
       "<path style=\" stroke:none;fill-rule:nonzero;fill:rgb(35.744547%,29.690284%,75.792579%);fill-opacity:0.5;\" d=\"M 319.097656 172.453125 L 311.804688 150 L 330.902344 163.875 Z M 319.097656 172.453125 \"/>\n",
       "<path style=\" stroke:none;fill-rule:nonzero;fill:rgb(34.418421%,79.832387%,87.701954%);fill-opacity:0.5;\" d=\"M 261.804688 186.328125 L 276.394531 186.328125 L 280.902344 172.453125 Z M 261.804688 186.328125 \"/>\n",
       "<path style=\" stroke:none;fill-rule:nonzero;fill:rgb(89.98897%,35.254924%,6.246143%);fill-opacity:0.5;\" d=\"M 276.394531 186.328125 L 269.097656 208.777344 L 261.804688 186.328125 Z M 276.394531 186.328125 \"/>\n",
       "<path style=\" stroke:none;fill-rule:nonzero;fill:rgb(68.790428%,37.427095%,45.262162%);fill-opacity:0.5;\" d=\"M 269.097656 163.875 L 254.507812 163.875 L 250 150 Z M 269.097656 163.875 \"/>\n",
       "<path style=\" stroke:none;fill-rule:nonzero;fill:rgb(70.428211%,75.766402%,13.014153%);fill-opacity:0.5;\" d=\"M 254.507812 163.875 L 261.804688 186.328125 L 269.097656 163.875 Z M 254.507812 163.875 \"/>\n",
       "<path style=\" stroke:none;fill-rule:nonzero;fill:rgb(86.910935%,10.722331%,35.130737%);fill-opacity:0.5;\" d=\"M 280.902344 172.453125 L 261.804688 186.328125 L 269.097656 163.875 Z M 280.902344 172.453125 \"/>\n",
       "<path style=\" stroke:none;fill-rule:nonzero;fill:rgb(25.946856%,68.035005%,35.265727%);fill-opacity:0.5;\" d=\"M 311.804688 194.902344 L 307.292969 208.777344 L 292.707031 208.777344 Z M 311.804688 194.902344 \"/>\n",
       "<path style=\" stroke:none;fill-rule:nonzero;fill:rgb(41.676899%,5.692261%,88.455223%);fill-opacity:0.5;\" d=\"M 307.292969 208.777344 L 330.902344 208.777344 L 311.804688 194.902344 Z M 307.292969 208.777344 \"/>\n",
       "<path style=\" stroke:none;fill-rule:nonzero;fill:rgb(24.727216%,0.85741%,77.951633%);fill-opacity:0.5;\" d=\"M 288.195312 194.902344 L 292.707031 181.027344 L 280.902344 172.453125 Z M 288.195312 194.902344 \"/>\n",
       "<path style=\" stroke:none;fill-rule:nonzero;fill:rgb(43.606727%,4.376854%,11.83451%);fill-opacity:0.5;\" d=\"M 292.707031 181.027344 L 311.804688 194.902344 L 288.195312 194.902344 Z M 292.707031 181.027344 \"/>\n",
       "<path style=\" stroke:none;fill-rule:nonzero;fill:rgb(66.329589%,7.576419%,91.814305%);fill-opacity:0.5;\" d=\"M 292.707031 208.777344 L 311.804688 194.902344 L 288.195312 194.902344 Z M 292.707031 208.777344 \"/>\n",
       "<path style=\" stroke:none;fill-rule:nonzero;fill:rgb(83.327598%,78.006695%,75.640447%);fill-opacity:0.5;\" d=\"M 288.195312 194.902344 L 276.394531 186.328125 L 280.902344 172.453125 Z M 288.195312 194.902344 \"/>\n",
       "<path style=\" stroke:none;fill-rule:nonzero;fill:rgb(40.590098%,24.946012%,96.170367%);fill-opacity:0.5;\" d=\"M 276.394531 186.328125 L 269.097656 208.777344 L 288.195312 194.902344 Z M 276.394531 186.328125 \"/>\n",
       "<path style=\" stroke:none;fill-rule:nonzero;fill:rgb(90.213655%,7.704618%,86.017824%);fill-opacity:0.5;\" d=\"M 292.707031 208.777344 L 269.097656 208.777344 L 288.195312 194.902344 Z M 292.707031 208.777344 \"/>\n",
       "<path style=\" stroke:none;fill-rule:nonzero;fill:rgb(75.493224%,97.644076%,95.291476%);fill-opacity:0.5;\" d=\"M 311.804688 222.652344 L 307.292969 208.777344 L 292.707031 208.777344 Z M 311.804688 222.652344 \"/>\n",
       "<path style=\" stroke:none;fill-rule:nonzero;fill:rgb(71.684214%,76.568055%,25.73556%);fill-opacity:0.5;\" d=\"M 307.292969 208.777344 L 330.902344 208.777344 L 311.804688 222.652344 Z M 307.292969 208.777344 \"/>\n",
       "<path style=\" stroke:none;fill-rule:nonzero;fill:rgb(31.692487%,46.279162%,2.054823%);fill-opacity:0.5;\" d=\"M 288.195312 222.652344 L 292.707031 236.53125 L 280.902344 245.105469 Z M 288.195312 222.652344 \"/>\n",
       "<path style=\" stroke:none;fill-rule:nonzero;fill:rgb(39.889394%,34.769036%,39.129677%);fill-opacity:0.5;\" d=\"M 292.707031 236.53125 L 311.804688 222.652344 L 288.195312 222.652344 Z M 292.707031 236.53125 \"/>\n",
       "<path style=\" stroke:none;fill-rule:nonzero;fill:rgb(14.2462%,10.341787%,11.324897%);fill-opacity:0.5;\" d=\"M 292.707031 208.777344 L 311.804688 222.652344 L 288.195312 222.652344 Z M 292.707031 208.777344 \"/>\n",
       "<path style=\" stroke:none;fill-rule:nonzero;fill:rgb(32.722832%,0.299697%,25.652701%);fill-opacity:0.5;\" d=\"M 288.195312 222.652344 L 276.394531 231.230469 L 280.902344 245.105469 Z M 288.195312 222.652344 \"/>\n",
       "<path style=\" stroke:none;fill-rule:nonzero;fill:rgb(11.602457%,92.5976%,50.704217%);fill-opacity:0.5;\" d=\"M 276.394531 231.230469 L 269.097656 208.777344 L 288.195312 222.652344 Z M 276.394531 231.230469 \"/>\n",
       "<path style=\" stroke:none;fill-rule:nonzero;fill:rgb(57.554534%,93.798677%,61.002426%);fill-opacity:0.5;\" d=\"M 292.707031 208.777344 L 269.097656 208.777344 L 288.195312 222.652344 Z M 292.707031 208.777344 \"/>\n",
       "<path style=\" stroke:none;fill-rule:nonzero;fill:rgb(38.285416%,10.696286%,12.30526%);fill-opacity:0.5;\" d=\"M 261.804688 186.328125 L 250 194.902344 L 238.195312 186.328125 Z M 261.804688 186.328125 \"/>\n",
       "<path style=\" stroke:none;fill-rule:nonzero;fill:rgb(75.848706%,77.654892%,45.364972%);fill-opacity:0.5;\" d=\"M 250 194.902344 L 269.097656 208.777344 L 261.804688 186.328125 Z M 250 194.902344 \"/>\n",
       "<path style=\" stroke:none;fill-rule:nonzero;fill:rgb(38.775816%,90.578672%,60.061248%);fill-opacity:0.5;\" d=\"M 242.707031 172.453125 L 254.507812 163.875 L 250 150 Z M 242.707031 172.453125 \"/>\n",
       "<path style=\" stroke:none;fill-rule:nonzero;fill:rgb(97.220759%,21.272934%,84.72754%);fill-opacity:0.5;\" d=\"M 254.507812 163.875 L 261.804688 186.328125 L 242.707031 172.453125 Z M 254.507812 163.875 \"/>\n",
       "<path style=\" stroke:none;fill-rule:nonzero;fill:rgb(59.571839%,82.993491%,69.230687%);fill-opacity:0.5;\" d=\"M 238.195312 186.328125 L 261.804688 186.328125 L 242.707031 172.453125 Z M 238.195312 186.328125 \"/>\n",
       "<path style=\" stroke:none;fill-rule:nonzero;fill:rgb(46.971874%,9.245201%,48.041594%);fill-opacity:0.5;\" d=\"M 226.394531 222.652344 L 238.195312 231.230469 L 250 222.652344 Z M 226.394531 222.652344 \"/>\n",
       "<path style=\" stroke:none;fill-rule:nonzero;fill:rgb(21.638914%,86.266244%,29.525459%);fill-opacity:0.5;\" d=\"M 238.195312 231.230469 L 219.097656 245.105469 L 226.394531 222.652344 Z M 238.195312 231.230469 \"/>\n",
       "<path style=\" stroke:none;fill-rule:nonzero;fill:rgb(59.287189%,18.363222%,68.501301%);fill-opacity:0.5;\" d=\"M 245.492188 208.777344 L 233.6875 200.203125 L 238.195312 186.328125 Z M 245.492188 208.777344 \"/>\n",
       "<path style=\" stroke:none;fill-rule:nonzero;fill:rgb(35.733678%,31.491872%,4.533894%);fill-opacity:0.5;\" d=\"M 233.6875 200.203125 L 226.394531 222.652344 L 245.492188 208.777344 Z M 233.6875 200.203125 \"/>\n",
       "<path style=\" stroke:none;fill-rule:nonzero;fill:rgb(45.721319%,3.510738%,72.294596%);fill-opacity:0.5;\" d=\"M 250 222.652344 L 226.394531 222.652344 L 245.492188 208.777344 Z M 250 222.652344 \"/>\n",
       "<path style=\" stroke:none;fill-rule:nonzero;fill:rgb(62.707324%,6.75956%,21.45071%);fill-opacity:0.5;\" d=\"M 245.492188 208.777344 L 250 194.902344 L 238.195312 186.328125 Z M 245.492188 208.777344 \"/>\n",
       "<path style=\" stroke:none;fill-rule:nonzero;fill:rgb(37.868074%,32.970037%,5.652969%);fill-opacity:0.5;\" d=\"M 250 194.902344 L 269.097656 208.777344 L 245.492188 208.777344 Z M 250 194.902344 \"/>\n",
       "<path style=\" stroke:none;fill-rule:nonzero;fill:rgb(79.371447%,25.399691%,18.341629%);fill-opacity:0.5;\" d=\"M 250 222.652344 L 269.097656 208.777344 L 245.492188 208.777344 Z M 250 222.652344 \"/>\n",
       "<path style=\" stroke:none;fill-rule:nonzero;fill:rgb(2.516799%,61.786839%,74.125445%);fill-opacity:0.5;\" d=\"M 242.707031 245.105469 L 238.195312 231.230469 L 250 222.652344 Z M 242.707031 245.105469 \"/>\n",
       "<path style=\" stroke:none;fill-rule:nonzero;fill:rgb(9.078413%,32.858385%,1.386211%);fill-opacity:0.5;\" d=\"M 238.195312 231.230469 L 219.097656 245.105469 L 242.707031 245.105469 Z M 238.195312 231.230469 \"/>\n",
       "<path style=\" stroke:none;fill-rule:nonzero;fill:rgb(95.551646%,47.298461%,10.407747%);fill-opacity:0.5;\" d=\"M 261.804688 231.230469 L 266.3125 245.105469 L 280.902344 245.105469 Z M 261.804688 231.230469 \"/>\n",
       "<path style=\" stroke:none;fill-rule:nonzero;fill:rgb(29.817997%,80.253003%,48.121734%);fill-opacity:0.5;\" d=\"M 266.3125 245.105469 L 242.707031 245.105469 L 261.804688 231.230469 Z M 266.3125 245.105469 \"/>\n",
       "<path style=\" stroke:none;fill-rule:nonzero;fill:rgb(59.590894%,12.148021%,72.572042%);fill-opacity:0.5;\" d=\"M 250 222.652344 L 242.707031 245.105469 L 261.804688 231.230469 Z M 250 222.652344 \"/>\n",
       "<path style=\" stroke:none;fill-rule:nonzero;fill:rgb(49.227889%,65.536389%,55.32928%);fill-opacity:0.5;\" d=\"M 261.804688 231.230469 L 276.394531 231.230469 L 280.902344 245.105469 Z M 261.804688 231.230469 \"/>\n",
       "<path style=\" stroke:none;fill-rule:nonzero;fill:rgb(90.405361%,43.115925%,9.393102%);fill-opacity:0.5;\" d=\"M 276.394531 231.230469 L 269.097656 208.777344 L 261.804688 231.230469 Z M 276.394531 231.230469 \"/>\n",
       "<path style=\" stroke:none;fill-rule:nonzero;fill:rgb(39.135371%,51.990094%,83.255716%);fill-opacity:0.5;\" d=\"M 250 222.652344 L 269.097656 208.777344 L 261.804688 231.230469 Z M 250 222.652344 \"/>\n",
       "<path style=\" stroke:none;fill-rule:nonzero;fill:rgb(26.850117%,61.181848%,11.923798%);fill-opacity:0.5;\" d=\"M 219.097656 172.453125 L 223.605469 186.328125 L 238.195312 186.328125 Z M 219.097656 172.453125 \"/>\n",
       "<path style=\" stroke:none;fill-rule:nonzero;fill:rgb(85.339958%,0.498644%,70.509834%);fill-opacity:0.5;\" d=\"M 223.605469 186.328125 L 200 186.328125 L 219.097656 172.453125 Z M 223.605469 186.328125 \"/>\n",
       "<path style=\" stroke:none;fill-rule:nonzero;fill:rgb(21.445695%,47.549836%,59.440027%);fill-opacity:0.5;\" d=\"M 242.707031 172.453125 L 238.195312 158.574219 L 250 150 Z M 242.707031 172.453125 \"/>\n",
       "<path style=\" stroke:none;fill-rule:nonzero;fill:rgb(1.795651%,97.446479%,27.115346%);fill-opacity:0.5;\" d=\"M 238.195312 158.574219 L 219.097656 172.453125 L 242.707031 172.453125 Z M 238.195312 158.574219 \"/>\n",
       "<path style=\" stroke:none;fill-rule:nonzero;fill:rgb(31.199688%,87.517131%,28.978324%);fill-opacity:0.5;\" d=\"M 238.195312 186.328125 L 219.097656 172.453125 L 242.707031 172.453125 Z M 238.195312 186.328125 \"/>\n",
       "<path style=\" stroke:none;fill-rule:nonzero;fill:rgb(86.696791%,29.361774%,93.651334%);fill-opacity:0.5;\" d=\"M 226.394531 222.652344 L 211.804688 222.652344 L 207.292969 208.777344 Z M 226.394531 222.652344 \"/>\n",
       "<path style=\" stroke:none;fill-rule:nonzero;fill:rgb(69.85095%,30.272983%,73.809773%);fill-opacity:0.5;\" d=\"M 211.804688 222.652344 L 219.097656 245.105469 L 226.394531 222.652344 Z M 211.804688 222.652344 \"/>\n",
       "<path style=\" stroke:none;fill-rule:nonzero;fill:rgb(65.677713%,36.039643%,23.382422%);fill-opacity:0.5;\" d=\"M 219.097656 200.203125 L 233.6875 200.203125 L 238.195312 186.328125 Z M 219.097656 200.203125 \"/>\n",
       "<path style=\" stroke:none;fill-rule:nonzero;fill:rgb(45.370079%,69.237841%,12.07852%);fill-opacity:0.5;\" d=\"M 233.6875 200.203125 L 226.394531 222.652344 L 219.097656 200.203125 Z M 233.6875 200.203125 \"/>\n",
       "<path style=\" stroke:none;fill-rule:nonzero;fill:rgb(9.553227%,0.948652%,82.963491%);fill-opacity:0.5;\" d=\"M 207.292969 208.777344 L 226.394531 222.652344 L 219.097656 200.203125 Z M 207.292969 208.777344 \"/>\n",
       "<path style=\" stroke:none;fill-rule:nonzero;fill:rgb(69.297577%,93.009996%,2.366885%);fill-opacity:0.5;\" d=\"M 219.097656 200.203125 L 223.605469 186.328125 L 238.195312 186.328125 Z M 219.097656 200.203125 \"/>\n",
       "<path style=\" stroke:none;fill-rule:nonzero;fill:rgb(11.414261%,34.365793%,28.544189%);fill-opacity:0.5;\" d=\"M 223.605469 186.328125 L 200 186.328125 L 219.097656 200.203125 Z M 223.605469 186.328125 \"/>\n",
       "<path style=\" stroke:none;fill-rule:nonzero;fill:rgb(20.39794%,90.691882%,3.454657%);fill-opacity:0.5;\" d=\"M 207.292969 208.777344 L 200 186.328125 L 219.097656 200.203125 Z M 207.292969 208.777344 \"/>\n",
       "<path style=\" stroke:none;fill-rule:nonzero;fill:rgb(0.741546%,59.913995%,61.070394%);fill-opacity:0.5;\" d=\"M 200 231.230469 L 211.804688 222.652344 L 207.292969 208.777344 Z M 200 231.230469 \"/>\n",
       "<path style=\" stroke:none;fill-rule:nonzero;fill:rgb(72.247634%,56.868942%,72.876798%);fill-opacity:0.5;\" d=\"M 211.804688 222.652344 L 219.097656 245.105469 L 200 231.230469 Z M 211.804688 222.652344 \"/>\n",
       "<path style=\" stroke:none;fill-rule:nonzero;fill:rgb(61.819954%,6.584035%,77.195619%);fill-opacity:0.5;\" d=\"M 192.707031 208.777344 L 180.902344 217.355469 L 169.097656 208.777344 Z M 192.707031 208.777344 \"/>\n",
       "<path style=\" stroke:none;fill-rule:nonzero;fill:rgb(95.812722%,37.420174%,6.485358%);fill-opacity:0.5;\" d=\"M 180.902344 217.355469 L 200 231.230469 L 192.707031 208.777344 Z M 180.902344 217.355469 \"/>\n",
       "<path style=\" stroke:none;fill-rule:nonzero;fill:rgb(46.525034%,1.82476%,77.09492%);fill-opacity:0.5;\" d=\"M 207.292969 208.777344 L 200 231.230469 L 192.707031 208.777344 Z M 207.292969 208.777344 \"/>\n",
       "<path style=\" stroke:none;fill-rule:nonzero;fill:rgb(78.494601%,80.177395%,41.0384%);fill-opacity:0.5;\" d=\"M 192.707031 208.777344 L 180.902344 200.203125 L 169.097656 208.777344 Z M 192.707031 208.777344 \"/>\n",
       "<path style=\" stroke:none;fill-rule:nonzero;fill:rgb(97.627631%,50.366579%,2.259902%);fill-opacity:0.5;\" d=\"M 180.902344 200.203125 L 200 186.328125 L 192.707031 208.777344 Z M 180.902344 200.203125 \"/>\n",
       "<path style=\" stroke:none;fill-rule:nonzero;fill:rgb(90.670948%,25.811212%,76.634862%);fill-opacity:0.5;\" d=\"M 207.292969 208.777344 L 200 186.328125 L 192.707031 208.777344 Z M 207.292969 208.777344 \"/>\n",
       "<path style=\" stroke:none;fill-rule:nonzero;fill:rgb(54.119073%,54.5795%,63.677014%);fill-opacity:0.5;\" d=\"M 219.097656 172.453125 L 207.292969 163.875 L 211.804688 150 Z M 219.097656 172.453125 \"/>\n",
       "<path style=\" stroke:none;fill-rule:nonzero;fill:rgb(11.384117%,40.159288%,18.3414%);fill-opacity:0.5;\" d=\"M 207.292969 163.875 L 200 186.328125 L 219.097656 172.453125 Z M 207.292969 163.875 \"/>\n",
       "<path style=\" stroke:none;fill-rule:nonzero;fill:rgb(94.888656%,66.412634%,40.605578%);fill-opacity:0.5;\" d=\"M 226.394531 150 L 238.195312 158.574219 L 250 150 Z M 226.394531 150 \"/>\n",
       "<path style=\" stroke:none;fill-rule:nonzero;fill:rgb(26.483859%,8.35216%,7.367149%);fill-opacity:0.5;\" d=\"M 238.195312 158.574219 L 219.097656 172.453125 L 226.394531 150 Z M 238.195312 158.574219 \"/>\n",
       "<path style=\" stroke:none;fill-rule:nonzero;fill:rgb(10.618771%,8.423825%,94.156532%);fill-opacity:0.5;\" d=\"M 211.804688 150 L 219.097656 172.453125 L 226.394531 150 Z M 211.804688 150 \"/>\n",
       "<path style=\" stroke:none;fill-rule:nonzero;fill:rgb(82.689453%,5.902893%,73.789761%);fill-opacity:0.5;\" d=\"M 173.605469 150 L 169.097656 163.875 L 180.902344 172.453125 Z M 173.605469 150 \"/>\n",
       "<path style=\" stroke:none;fill-rule:nonzero;fill:rgb(64.421042%,31.718617%,85.618906%);fill-opacity:0.5;\" d=\"M 169.097656 163.875 L 150 150 L 173.605469 150 Z M 169.097656 163.875 \"/>\n",
       "<path style=\" stroke:none;fill-rule:nonzero;fill:rgb(28.653031%,8.283164%,97.208485%);fill-opacity:0.5;\" d=\"M 192.707031 163.875 L 197.214844 150 L 211.804688 150 Z M 192.707031 163.875 \"/>\n",
       "<path style=\" stroke:none;fill-rule:nonzero;fill:rgb(76.113467%,45.634646%,6.287087%);fill-opacity:0.5;\" d=\"M 197.214844 150 L 173.605469 150 L 192.707031 163.875 Z M 197.214844 150 \"/>\n",
       "<path style=\" stroke:none;fill-rule:nonzero;fill:rgb(51.079416%,26.28752%,85.173737%);fill-opacity:0.5;\" d=\"M 180.902344 172.453125 L 173.605469 150 L 192.707031 163.875 Z M 180.902344 172.453125 \"/>\n",
       "<path style=\" stroke:none;fill-rule:nonzero;fill:rgb(74.248703%,7.153392%,95.518543%);fill-opacity:0.5;\" d=\"M 192.707031 163.875 L 207.292969 163.875 L 211.804688 150 Z M 192.707031 163.875 \"/>\n",
       "<path style=\" stroke:none;fill-rule:nonzero;fill:rgb(77.389557%,79.607291%,73.757815%);fill-opacity:0.5;\" d=\"M 207.292969 163.875 L 200 186.328125 L 192.707031 163.875 Z M 207.292969 163.875 \"/>\n",
       "<path style=\" stroke:none;fill-rule:nonzero;fill:rgb(89.663865%,96.059946%,61.633037%);fill-opacity:0.5;\" d=\"M 180.902344 172.453125 L 200 186.328125 L 192.707031 163.875 Z M 180.902344 172.453125 \"/>\n",
       "<path style=\" stroke:none;fill-rule:nonzero;fill:rgb(24.037443%,71.163158%,50.408129%);fill-opacity:0.5;\" d=\"M 157.292969 172.453125 L 169.097656 163.875 L 180.902344 172.453125 Z M 157.292969 172.453125 \"/>\n",
       "<path style=\" stroke:none;fill-rule:nonzero;fill:rgb(39.520161%,63.884211%,19.47412%);fill-opacity:0.5;\" d=\"M 169.097656 163.875 L 150 150 L 157.292969 172.453125 Z M 169.097656 163.875 \"/>\n",
       "<path style=\" stroke:none;fill-rule:nonzero;fill:rgb(9.342616%,2.440116%,85.685696%);fill-opacity:0.5;\" d=\"M 176.394531 186.328125 L 164.589844 194.902344 L 169.097656 208.777344 Z M 176.394531 186.328125 \"/>\n",
       "<path style=\" stroke:none;fill-rule:nonzero;fill:rgb(31.969775%,8.335356%,75.002124%);fill-opacity:0.5;\" d=\"M 164.589844 194.902344 L 157.292969 172.453125 L 176.394531 186.328125 Z M 164.589844 194.902344 \"/>\n",
       "<path style=\" stroke:none;fill-rule:nonzero;fill:rgb(13.641143%,62.658256%,1.674381%);fill-opacity:0.5;\" d=\"M 180.902344 172.453125 L 157.292969 172.453125 L 176.394531 186.328125 Z M 180.902344 172.453125 \"/>\n",
       "<path style=\" stroke:none;fill-rule:nonzero;fill:rgb(38.496959%,49.722537%,11.220726%);fill-opacity:0.5;\" d=\"M 176.394531 186.328125 L 180.902344 200.203125 L 169.097656 208.777344 Z M 176.394531 186.328125 \"/>\n",
       "<path style=\" stroke:none;fill-rule:nonzero;fill:rgb(4.112646%,76.322552%,61.586261%);fill-opacity:0.5;\" d=\"M 180.902344 200.203125 L 200 186.328125 L 176.394531 186.328125 Z M 180.902344 200.203125 \"/>\n",
       "<path style=\" stroke:none;fill-rule:nonzero;fill:rgb(62.050301%,1.699526%,76.285484%);fill-opacity:0.5;\" d=\"M 180.902344 172.453125 L 200 186.328125 L 176.394531 186.328125 Z M 180.902344 172.453125 \"/>\n",
       "<path style=\" stroke:none;fill-rule:nonzero;fill:rgb(9.737746%,23.853343%,57.242259%);fill-opacity:0.5;\" d=\"M 219.097656 127.546875 L 207.292969 136.125 L 211.804688 150 Z M 219.097656 127.546875 \"/>\n",
       "<path style=\" stroke:none;fill-rule:nonzero;fill:rgb(55.861885%,85.047408%,83.53407%);fill-opacity:0.5;\" d=\"M 207.292969 136.125 L 200 113.671875 L 219.097656 127.546875 Z M 207.292969 136.125 \"/>\n",
       "<path style=\" stroke:none;fill-rule:nonzero;fill:rgb(45.766001%,13.421973%,39.172%);fill-opacity:0.5;\" d=\"M 226.394531 150 L 238.195312 141.425781 L 250 150 Z M 226.394531 150 \"/>\n",
       "<path style=\" stroke:none;fill-rule:nonzero;fill:rgb(12.270904%,27.113225%,66.192089%);fill-opacity:0.5;\" d=\"M 238.195312 141.425781 L 219.097656 127.546875 L 226.394531 150 Z M 238.195312 141.425781 \"/>\n",
       "<path style=\" stroke:none;fill-rule:nonzero;fill:rgb(25.700273%,11.251019%,61.349778%);fill-opacity:0.5;\" d=\"M 211.804688 150 L 219.097656 127.546875 L 226.394531 150 Z M 211.804688 150 \"/>\n",
       "<path style=\" stroke:none;fill-rule:nonzero;fill:rgb(1.182878%,56.488819%,8.136561%);fill-opacity:0.5;\" d=\"M 173.605469 150 L 169.097656 136.125 L 180.902344 127.546875 Z M 173.605469 150 \"/>\n",
       "<path style=\" stroke:none;fill-rule:nonzero;fill:rgb(1.133687%,78.35392%,56.555233%);fill-opacity:0.5;\" d=\"M 169.097656 136.125 L 150 150 L 173.605469 150 Z M 169.097656 136.125 \"/>\n",
       "<path style=\" stroke:none;fill-rule:nonzero;fill:rgb(29.311807%,4.200558%,88.157899%);fill-opacity:0.5;\" d=\"M 192.707031 136.125 L 197.214844 150 L 211.804688 150 Z M 192.707031 136.125 \"/>\n",
       "<path style=\" stroke:none;fill-rule:nonzero;fill:rgb(44.198684%,83.334894%,37.739927%);fill-opacity:0.5;\" d=\"M 197.214844 150 L 173.605469 150 L 192.707031 136.125 Z M 197.214844 150 \"/>\n",
       "<path style=\" stroke:none;fill-rule:nonzero;fill:rgb(39.530919%,24.739534%,79.27973%);fill-opacity:0.5;\" d=\"M 180.902344 127.546875 L 173.605469 150 L 192.707031 136.125 Z M 180.902344 127.546875 \"/>\n",
       "<path style=\" stroke:none;fill-rule:nonzero;fill:rgb(48.918238%,30.055732%,15.451141%);fill-opacity:0.5;\" d=\"M 192.707031 136.125 L 207.292969 136.125 L 211.804688 150 Z M 192.707031 136.125 \"/>\n",
       "<path style=\" stroke:none;fill-rule:nonzero;fill:rgb(22.489681%,83.141228%,58.211983%);fill-opacity:0.5;\" d=\"M 207.292969 136.125 L 200 113.671875 L 192.707031 136.125 Z M 207.292969 136.125 \"/>\n",
       "<path style=\" stroke:none;fill-rule:nonzero;fill:rgb(24.566481%,59.020249%,24.973946%);fill-opacity:0.5;\" d=\"M 180.902344 127.546875 L 200 113.671875 L 192.707031 136.125 Z M 180.902344 127.546875 \"/>\n",
       "<path style=\" stroke:none;fill-rule:nonzero;fill:rgb(13.141855%,14.764037%,96.07332%);fill-opacity:0.5;\" d=\"M 157.292969 127.546875 L 169.097656 136.125 L 180.902344 127.546875 Z M 157.292969 127.546875 \"/>\n",
       "<path style=\" stroke:none;fill-rule:nonzero;fill:rgb(60.293503%,77.908464%,3.528356%);fill-opacity:0.5;\" d=\"M 169.097656 136.125 L 150 150 L 157.292969 127.546875 Z M 169.097656 136.125 \"/>\n",
       "<path style=\" stroke:none;fill-rule:nonzero;fill:rgb(13.070903%,51.092835%,95.342593%);fill-opacity:0.5;\" d=\"M 176.394531 113.671875 L 164.589844 105.097656 L 169.097656 91.222656 Z M 176.394531 113.671875 \"/>\n",
       "<path style=\" stroke:none;fill-rule:nonzero;fill:rgb(93.428258%,28.441631%,42.38713%);fill-opacity:0.5;\" d=\"M 164.589844 105.097656 L 157.292969 127.546875 L 176.394531 113.671875 Z M 164.589844 105.097656 \"/>\n",
       "<path style=\" stroke:none;fill-rule:nonzero;fill:rgb(89.723457%,89.458379%,15.996745%);fill-opacity:0.5;\" d=\"M 180.902344 127.546875 L 157.292969 127.546875 L 176.394531 113.671875 Z M 180.902344 127.546875 \"/>\n",
       "<path style=\" stroke:none;fill-rule:nonzero;fill:rgb(33.141358%,79.13934%,61.899316%);fill-opacity:0.5;\" d=\"M 176.394531 113.671875 L 180.902344 99.796875 L 169.097656 91.222656 Z M 176.394531 113.671875 \"/>\n",
       "<path style=\" stroke:none;fill-rule:nonzero;fill:rgb(39.57852%,65.478963%,29.424348%);fill-opacity:0.5;\" d=\"M 180.902344 99.796875 L 200 113.671875 L 176.394531 113.671875 Z M 180.902344 99.796875 \"/>\n",
       "<path style=\" stroke:none;fill-rule:nonzero;fill:rgb(33.896125%,65.428535%,65.070517%);fill-opacity:0.5;\" d=\"M 180.902344 127.546875 L 200 113.671875 L 176.394531 113.671875 Z M 180.902344 127.546875 \"/>\n",
       "<path style=\" stroke:none;fill-rule:nonzero;fill:rgb(11.226315%,25.159206%,10.012394%);fill-opacity:0.5;\" d=\"M 219.097656 127.546875 L 223.605469 113.671875 L 238.195312 113.671875 Z M 219.097656 127.546875 \"/>\n",
       "<path style=\" stroke:none;fill-rule:nonzero;fill:rgb(18.808361%,16.695801%,46.851272%);fill-opacity:0.5;\" d=\"M 223.605469 113.671875 L 200 113.671875 L 219.097656 127.546875 Z M 223.605469 113.671875 \"/>\n",
       "<path style=\" stroke:none;fill-rule:nonzero;fill:rgb(34.440895%,36.854884%,81.440188%);fill-opacity:0.5;\" d=\"M 242.707031 127.546875 L 238.195312 141.425781 L 250 150 Z M 242.707031 127.546875 \"/>\n",
       "<path style=\" stroke:none;fill-rule:nonzero;fill:rgb(22.306298%,37.555265%,57.920854%);fill-opacity:0.5;\" d=\"M 238.195312 141.425781 L 219.097656 127.546875 L 242.707031 127.546875 Z M 238.195312 141.425781 \"/>\n",
       "<path style=\" stroke:none;fill-rule:nonzero;fill:rgb(91.72113%,94.56708%,85.498724%);fill-opacity:0.5;\" d=\"M 238.195312 113.671875 L 219.097656 127.546875 L 242.707031 127.546875 Z M 238.195312 113.671875 \"/>\n",
       "<path style=\" stroke:none;fill-rule:nonzero;fill:rgb(47.236802%,69.361923%,75.407945%);fill-opacity:0.5;\" d=\"M 226.394531 77.347656 L 211.804688 77.347656 L 207.292969 91.222656 Z M 226.394531 77.347656 \"/>\n",
       "<path style=\" stroke:none;fill-rule:nonzero;fill:rgb(23.65065%,12.242765%,18.335752%);fill-opacity:0.5;\" d=\"M 211.804688 77.347656 L 219.097656 54.894531 L 226.394531 77.347656 Z M 211.804688 77.347656 \"/>\n",
       "<path style=\" stroke:none;fill-rule:nonzero;fill:rgb(83.431552%,36.975047%,22.498293%);fill-opacity:0.5;\" d=\"M 219.097656 99.796875 L 233.6875 99.796875 L 238.195312 113.671875 Z M 219.097656 99.796875 \"/>\n",
       "<path style=\" stroke:none;fill-rule:nonzero;fill:rgb(14.314572%,28.948941%,36.442958%);fill-opacity:0.5;\" d=\"M 233.6875 99.796875 L 226.394531 77.347656 L 219.097656 99.796875 Z M 233.6875 99.796875 \"/>\n",
       "<path style=\" stroke:none;fill-rule:nonzero;fill:rgb(88.627055%,94.556743%,70.566301%);fill-opacity:0.5;\" d=\"M 207.292969 91.222656 L 226.394531 77.347656 L 219.097656 99.796875 Z M 207.292969 91.222656 \"/>\n",
       "<path style=\" stroke:none;fill-rule:nonzero;fill:rgb(77.531774%,54.916862%,91.445292%);fill-opacity:0.5;\" d=\"M 219.097656 99.796875 L 223.605469 113.671875 L 238.195312 113.671875 Z M 219.097656 99.796875 \"/>\n",
       "<path style=\" stroke:none;fill-rule:nonzero;fill:rgb(1.957534%,78.561362%,46.183642%);fill-opacity:0.5;\" d=\"M 223.605469 113.671875 L 200 113.671875 L 219.097656 99.796875 Z M 223.605469 113.671875 \"/>\n",
       "<path style=\" stroke:none;fill-rule:nonzero;fill:rgb(64.16232%,94.423042%,86.542835%);fill-opacity:0.5;\" d=\"M 207.292969 91.222656 L 200 113.671875 L 219.097656 99.796875 Z M 207.292969 91.222656 \"/>\n",
       "<path style=\" stroke:none;fill-rule:nonzero;fill:rgb(62.690331%,20.772615%,83.18676%);fill-opacity:0.5;\" d=\"M 200 68.769531 L 211.804688 77.347656 L 207.292969 91.222656 Z M 200 68.769531 \"/>\n",
       "<path style=\" stroke:none;fill-rule:nonzero;fill:rgb(55.927928%,47.970072%,53.584857%);fill-opacity:0.5;\" d=\"M 211.804688 77.347656 L 219.097656 54.894531 L 200 68.769531 Z M 211.804688 77.347656 \"/>\n",
       "<path style=\" stroke:none;fill-rule:nonzero;fill:rgb(90.607259%,8.815837%,90.774146%);fill-opacity:0.5;\" d=\"M 192.707031 91.222656 L 180.902344 82.644531 L 169.097656 91.222656 Z M 192.707031 91.222656 \"/>\n",
       "<path style=\" stroke:none;fill-rule:nonzero;fill:rgb(38.773096%,70.884013%,33.923108%);fill-opacity:0.5;\" d=\"M 180.902344 82.644531 L 200 68.769531 L 192.707031 91.222656 Z M 180.902344 82.644531 \"/>\n",
       "<path style=\" stroke:none;fill-rule:nonzero;fill:rgb(97.94057%,66.696417%,87.888774%);fill-opacity:0.5;\" d=\"M 207.292969 91.222656 L 200 68.769531 L 192.707031 91.222656 Z M 207.292969 91.222656 \"/>\n",
       "<path style=\" stroke:none;fill-rule:nonzero;fill:rgb(19.503287%,76.857656%,97.460353%);fill-opacity:0.5;\" d=\"M 192.707031 91.222656 L 180.902344 99.796875 L 169.097656 91.222656 Z M 192.707031 91.222656 \"/>\n",
       "<path style=\" stroke:none;fill-rule:nonzero;fill:rgb(50.0347%,61.616353%,70.003534%);fill-opacity:0.5;\" d=\"M 180.902344 99.796875 L 200 113.671875 L 192.707031 91.222656 Z M 180.902344 99.796875 \"/>\n",
       "<path style=\" stroke:none;fill-rule:nonzero;fill:rgb(9.032867%,52.477572%,21.686066%);fill-opacity:0.5;\" d=\"M 207.292969 91.222656 L 200 113.671875 L 192.707031 91.222656 Z M 207.292969 91.222656 \"/>\n",
       "<path style=\" stroke:none;fill-rule:nonzero;fill:rgb(3.529194%,30.660427%,59.616186%);fill-opacity:0.5;\" d=\"M 261.804688 113.671875 L 250 105.097656 L 238.195312 113.671875 Z M 261.804688 113.671875 \"/>\n",
       "<path style=\" stroke:none;fill-rule:nonzero;fill:rgb(93.093572%,79.474283%,37.925492%);fill-opacity:0.5;\" d=\"M 250 105.097656 L 269.097656 91.222656 L 261.804688 113.671875 Z M 250 105.097656 \"/>\n",
       "<path style=\" stroke:none;fill-rule:nonzero;fill:rgb(86.078689%,25.605353%,15.824951%);fill-opacity:0.5;\" d=\"M 242.707031 127.546875 L 254.507812 136.125 L 250 150 Z M 242.707031 127.546875 \"/>\n",
       "<path style=\" stroke:none;fill-rule:nonzero;fill:rgb(82.233517%,50.982544%,72.716872%);fill-opacity:0.5;\" d=\"M 254.507812 136.125 L 261.804688 113.671875 L 242.707031 127.546875 Z M 254.507812 136.125 \"/>\n",
       "<path style=\" stroke:none;fill-rule:nonzero;fill:rgb(97.327126%,24.120322%,83.162656%);fill-opacity:0.5;\" d=\"M 238.195312 113.671875 L 261.804688 113.671875 L 242.707031 127.546875 Z M 238.195312 113.671875 \"/>\n",
       "<path style=\" stroke:none;fill-rule:nonzero;fill:rgb(7.384263%,79.281621%,1.602283%);fill-opacity:0.5;\" d=\"M 226.394531 77.347656 L 238.195312 68.769531 L 250 77.347656 Z M 226.394531 77.347656 \"/>\n",
       "<path style=\" stroke:none;fill-rule:nonzero;fill:rgb(19.39575%,90.388906%,51.912005%);fill-opacity:0.5;\" d=\"M 238.195312 68.769531 L 219.097656 54.894531 L 226.394531 77.347656 Z M 238.195312 68.769531 \"/>\n",
       "<path style=\" stroke:none;fill-rule:nonzero;fill:rgb(14.958327%,21.821951%,87.633622%);fill-opacity:0.5;\" d=\"M 245.492188 91.222656 L 233.6875 99.796875 L 238.195312 113.671875 Z M 245.492188 91.222656 \"/>\n",
       "<path style=\" stroke:none;fill-rule:nonzero;fill:rgb(3.22717%,59.435101%,47.325003%);fill-opacity:0.5;\" d=\"M 233.6875 99.796875 L 226.394531 77.347656 L 245.492188 91.222656 Z M 233.6875 99.796875 \"/>\n",
       "<path style=\" stroke:none;fill-rule:nonzero;fill:rgb(40.687601%,4.971858%,66.321312%);fill-opacity:0.5;\" d=\"M 250 77.347656 L 226.394531 77.347656 L 245.492188 91.222656 Z M 250 77.347656 \"/>\n",
       "<path style=\" stroke:none;fill-rule:nonzero;fill:rgb(81.981481%,71.466879%,6.642597%);fill-opacity:0.5;\" d=\"M 245.492188 91.222656 L 250 105.097656 L 238.195312 113.671875 Z M 245.492188 91.222656 \"/>\n",
       "<path style=\" stroke:none;fill-rule:nonzero;fill:rgb(45.291607%,71.664711%,38.942129%);fill-opacity:0.5;\" d=\"M 250 105.097656 L 269.097656 91.222656 L 245.492188 91.222656 Z M 250 105.097656 \"/>\n",
       "<path style=\" stroke:none;fill-rule:nonzero;fill:rgb(28.185991%,62.651763%,12.940479%);fill-opacity:0.5;\" d=\"M 250 77.347656 L 269.097656 91.222656 L 245.492188 91.222656 Z M 250 77.347656 \"/>\n",
       "<path style=\" stroke:none;fill-rule:nonzero;fill:rgb(96.674771%,99.784479%,96.333394%);fill-opacity:0.5;\" d=\"M 242.707031 54.894531 L 238.195312 68.769531 L 250 77.347656 Z M 242.707031 54.894531 \"/>\n",
       "<path style=\" stroke:none;fill-rule:nonzero;fill:rgb(91.0863%,40.438121%,98.033921%);fill-opacity:0.5;\" d=\"M 238.195312 68.769531 L 219.097656 54.894531 L 242.707031 54.894531 Z M 238.195312 68.769531 \"/>\n",
       "<path style=\" stroke:none;fill-rule:nonzero;fill:rgb(77.20591%,37.603145%,23.420905%);fill-opacity:0.5;\" d=\"M 261.804688 68.769531 L 266.3125 54.894531 L 280.902344 54.894531 Z M 261.804688 68.769531 \"/>\n",
       "<path style=\" stroke:none;fill-rule:nonzero;fill:rgb(85.795189%,21.001936%,67.251301%);fill-opacity:0.5;\" d=\"M 266.3125 54.894531 L 242.707031 54.894531 L 261.804688 68.769531 Z M 266.3125 54.894531 \"/>\n",
       "<path style=\" stroke:none;fill-rule:nonzero;fill:rgb(3.649262%,37.577606%,16.729176%);fill-opacity:0.5;\" d=\"M 250 77.347656 L 242.707031 54.894531 L 261.804688 68.769531 Z M 250 77.347656 \"/>\n",
       "<path style=\" stroke:none;fill-rule:nonzero;fill:rgb(99.202908%,15.235613%,13.01544%);fill-opacity:0.5;\" d=\"M 261.804688 68.769531 L 276.394531 68.769531 L 280.902344 54.894531 Z M 261.804688 68.769531 \"/>\n",
       "<path style=\" stroke:none;fill-rule:nonzero;fill:rgb(61.114745%,64.442466%,23.863093%);fill-opacity:0.5;\" d=\"M 276.394531 68.769531 L 269.097656 91.222656 L 261.804688 68.769531 Z M 276.394531 68.769531 \"/>\n",
       "<path style=\" stroke:none;fill-rule:nonzero;fill:rgb(41.297916%,97.421851%,86.770063%);fill-opacity:0.5;\" d=\"M 250 77.347656 L 269.097656 91.222656 L 261.804688 68.769531 Z M 250 77.347656 \"/>\n",
       "<path style=\" stroke:none;fill-rule:nonzero;fill:rgb(53.775123%,92.180027%,73.981895%);fill-opacity:0.5;\" d=\"M 261.804688 113.671875 L 276.394531 113.671875 L 280.902344 127.546875 Z M 261.804688 113.671875 \"/>\n",
       "<path style=\" stroke:none;fill-rule:nonzero;fill:rgb(15.288652%,19.468651%,9.142568%);fill-opacity:0.5;\" d=\"M 276.394531 113.671875 L 269.097656 91.222656 L 261.804688 113.671875 Z M 276.394531 113.671875 \"/>\n",
       "<path style=\" stroke:none;fill-rule:nonzero;fill:rgb(55.436307%,81.72199%,2.502173%);fill-opacity:0.5;\" d=\"M 269.097656 136.125 L 254.507812 136.125 L 250 150 Z M 269.097656 136.125 \"/>\n",
       "<path style=\" stroke:none;fill-rule:nonzero;fill:rgb(24.547607%,93.307797%,12.245206%);fill-opacity:0.5;\" d=\"M 254.507812 136.125 L 261.804688 113.671875 L 269.097656 136.125 Z M 254.507812 136.125 \"/>\n",
       "<path style=\" stroke:none;fill-rule:nonzero;fill:rgb(16.441342%,63.069454%,88.40827%);fill-opacity:0.5;\" d=\"M 280.902344 127.546875 L 261.804688 113.671875 L 269.097656 136.125 Z M 280.902344 127.546875 \"/>\n",
       "<path style=\" stroke:none;fill-rule:nonzero;fill:rgb(94.509662%,42.186918%,46.725473%);fill-opacity:0.5;\" d=\"M 311.804688 105.097656 L 307.292969 91.222656 L 292.707031 91.222656 Z M 311.804688 105.097656 \"/>\n",
       "<path style=\" stroke:none;fill-rule:nonzero;fill:rgb(48.081509%,32.627891%,28.32809%);fill-opacity:0.5;\" d=\"M 307.292969 91.222656 L 330.902344 91.222656 L 311.804688 105.097656 Z M 307.292969 91.222656 \"/>\n",
       "<path style=\" stroke:none;fill-rule:nonzero;fill:rgb(38.528089%,96.197688%,36.049742%);fill-opacity:0.5;\" d=\"M 288.195312 105.097656 L 292.707031 118.972656 L 280.902344 127.546875 Z M 288.195312 105.097656 \"/>\n",
       "<path style=\" stroke:none;fill-rule:nonzero;fill:rgb(37.503719%,30.227541%,50.577923%);fill-opacity:0.5;\" d=\"M 292.707031 118.972656 L 311.804688 105.097656 L 288.195312 105.097656 Z M 292.707031 118.972656 \"/>\n",
       "<path style=\" stroke:none;fill-rule:nonzero;fill:rgb(53.049192%,86.400417%,61.050346%);fill-opacity:0.5;\" d=\"M 292.707031 91.222656 L 311.804688 105.097656 L 288.195312 105.097656 Z M 292.707031 91.222656 \"/>\n",
       "<path style=\" stroke:none;fill-rule:nonzero;fill:rgb(12.335912%,11.943141%,97.642203%);fill-opacity:0.5;\" d=\"M 288.195312 105.097656 L 276.394531 113.671875 L 280.902344 127.546875 Z M 288.195312 105.097656 \"/>\n",
       "<path style=\" stroke:none;fill-rule:nonzero;fill:rgb(41.249168%,61.418818%,93.696468%);fill-opacity:0.5;\" d=\"M 276.394531 113.671875 L 269.097656 91.222656 L 288.195312 105.097656 Z M 276.394531 113.671875 \"/>\n",
       "<path style=\" stroke:none;fill-rule:nonzero;fill:rgb(39.437486%,32.889649%,57.539598%);fill-opacity:0.5;\" d=\"M 292.707031 91.222656 L 269.097656 91.222656 L 288.195312 105.097656 Z M 292.707031 91.222656 \"/>\n",
       "<path style=\" stroke:none;fill-rule:nonzero;fill:rgb(62.020559%,95.906867%,34.522801%);fill-opacity:0.5;\" d=\"M 311.804688 77.347656 L 307.292969 91.222656 L 292.707031 91.222656 Z M 311.804688 77.347656 \"/>\n",
       "<path style=\" stroke:none;fill-rule:nonzero;fill:rgb(75.142601%,15.323428%,91.573075%);fill-opacity:0.5;\" d=\"M 307.292969 91.222656 L 330.902344 91.222656 L 311.804688 77.347656 Z M 307.292969 91.222656 \"/>\n",
       "<path style=\" stroke:none;fill-rule:nonzero;fill:rgb(0.186157%,2.350588%,11.611341%);fill-opacity:0.5;\" d=\"M 288.195312 77.347656 L 292.707031 63.46875 L 280.902344 54.894531 Z M 288.195312 77.347656 \"/>\n",
       "<path style=\" stroke:none;fill-rule:nonzero;fill:rgb(40.469809%,44.666786%,75.054342%);fill-opacity:0.5;\" d=\"M 292.707031 63.46875 L 311.804688 77.347656 L 288.195312 77.347656 Z M 292.707031 63.46875 \"/>\n",
       "<path style=\" stroke:none;fill-rule:nonzero;fill:rgb(16.46894%,10.7237%,97.352491%);fill-opacity:0.5;\" d=\"M 292.707031 91.222656 L 311.804688 77.347656 L 288.195312 77.347656 Z M 292.707031 91.222656 \"/>\n",
       "<path style=\" stroke:none;fill-rule:nonzero;fill:rgb(23.323244%,61.127132%,43.097109%);fill-opacity:0.5;\" d=\"M 288.195312 77.347656 L 276.394531 68.769531 L 280.902344 54.894531 Z M 288.195312 77.347656 \"/>\n",
       "<path style=\" stroke:none;fill-rule:nonzero;fill:rgb(28.241983%,37.251027%,92.08534%);fill-opacity:0.5;\" d=\"M 276.394531 68.769531 L 269.097656 91.222656 L 288.195312 77.347656 Z M 276.394531 68.769531 \"/>\n",
       "<path style=\" stroke:none;fill-rule:nonzero;fill:rgb(69.068741%,31.338017%,15.730523%);fill-opacity:0.5;\" d=\"M 292.707031 91.222656 L 269.097656 91.222656 L 288.195312 77.347656 Z M 292.707031 91.222656 \"/>\n",
       "<path style=\" stroke:none;fill-rule:nonzero;fill:rgb(98.107277%,37.222439%,18.005933%);fill-opacity:0.5;\" d=\"M 288.195312 150 L 292.707031 136.125 L 280.902344 127.546875 Z M 288.195312 150 \"/>\n",
       "<path style=\" stroke:none;fill-rule:nonzero;fill:rgb(74.597433%,74.705562%,48.253567%);fill-opacity:0.5;\" d=\"M 292.707031 136.125 L 311.804688 150 L 288.195312 150 Z M 292.707031 136.125 \"/>\n",
       "<path style=\" stroke:none;fill-rule:nonzero;fill:rgb(54.417222%,47.407327%,28.298405%);fill-opacity:0.5;\" d=\"M 269.097656 136.125 L 264.589844 150 L 250 150 Z M 269.097656 136.125 \"/>\n",
       "<path style=\" stroke:none;fill-rule:nonzero;fill:rgb(24.933156%,87.549759%,11.335218%);fill-opacity:0.5;\" d=\"M 264.589844 150 L 288.195312 150 L 269.097656 136.125 Z M 264.589844 150 \"/>\n",
       "<path style=\" stroke:none;fill-rule:nonzero;fill:rgb(90.480646%,37.558403%,29.687003%);fill-opacity:0.5;\" d=\"M 280.902344 127.546875 L 288.195312 150 L 269.097656 136.125 Z M 280.902344 127.546875 \"/>\n",
       "<path style=\" stroke:none;fill-rule:nonzero;fill:rgb(80.602351%,55.262107%,86.564078%);fill-opacity:0.5;\" d=\"M 311.804688 105.097656 L 323.605469 113.671875 L 319.097656 127.546875 Z M 311.804688 105.097656 \"/>\n",
       "<path style=\" stroke:none;fill-rule:nonzero;fill:rgb(81.875383%,0.954901%,63.629101%);fill-opacity:0.5;\" d=\"M 323.605469 113.671875 L 330.902344 91.222656 L 311.804688 105.097656 Z M 323.605469 113.671875 \"/>\n",
       "<path style=\" stroke:none;fill-rule:nonzero;fill:rgb(19.528159%,2.173351%,60.065096%);fill-opacity:0.5;\" d=\"M 304.507812 127.546875 L 292.707031 118.972656 L 280.902344 127.546875 Z M 304.507812 127.546875 \"/>\n",
       "<path style=\" stroke:none;fill-rule:nonzero;fill:rgb(61.146385%,87.87091%,83.038835%);fill-opacity:0.5;\" d=\"M 292.707031 118.972656 L 311.804688 105.097656 L 304.507812 127.546875 Z M 292.707031 118.972656 \"/>\n",
       "<path style=\" stroke:none;fill-rule:nonzero;fill:rgb(13.949336%,57.364186%,40.686099%);fill-opacity:0.5;\" d=\"M 319.097656 127.546875 L 311.804688 105.097656 L 304.507812 127.546875 Z M 319.097656 127.546875 \"/>\n",
       "<path style=\" stroke:none;fill-rule:nonzero;fill:rgb(56.855281%,51.277127%,77.697734%);fill-opacity:0.5;\" d=\"M 304.507812 127.546875 L 292.707031 136.125 L 280.902344 127.546875 Z M 304.507812 127.546875 \"/>\n",
       "<path style=\" stroke:none;fill-rule:nonzero;fill:rgb(80.393903%,59.136457%,96.980344%);fill-opacity:0.5;\" d=\"M 292.707031 136.125 L 311.804688 150 L 304.507812 127.546875 Z M 292.707031 136.125 \"/>\n",
       "<path style=\" stroke:none;fill-rule:nonzero;fill:rgb(0.0930893%,76.364896%,7.239761%);fill-opacity:0.5;\" d=\"M 319.097656 127.546875 L 311.804688 150 L 304.507812 127.546875 Z M 319.097656 127.546875 \"/>\n",
       "<path style=\" stroke:none;fill-rule:nonzero;fill:rgb(6.258156%,73.746146%,8.304609%);fill-opacity:0.5;\" d=\"M 338.195312 113.671875 L 323.605469 113.671875 L 319.097656 127.546875 Z M 338.195312 113.671875 \"/>\n",
       "<path style=\" stroke:none;fill-rule:nonzero;fill:rgb(64.345298%,93.3348%,81.781674%);fill-opacity:0.5;\" d=\"M 323.605469 113.671875 L 330.902344 91.222656 L 338.195312 113.671875 Z M 323.605469 113.671875 \"/>\n",
       "<path style=\" stroke:none;fill-rule:nonzero;fill:rgb(37.1826%,1.290557%,91.888694%);fill-opacity:0.5;\" d=\"M 330.902344 136.125 L 345.492188 136.125 L 350 150 Z M 330.902344 136.125 \"/>\n",
       "<path style=\" stroke:none;fill-rule:nonzero;fill:rgb(87.606964%,33.077046%,68.684116%);fill-opacity:0.5;\" d=\"M 345.492188 136.125 L 338.195312 113.671875 L 330.902344 136.125 Z M 345.492188 136.125 \"/>\n",
       "<path style=\" stroke:none;fill-rule:nonzero;fill:rgb(39.977523%,97.154909%,38.555885%);fill-opacity:0.5;\" d=\"M 319.097656 127.546875 L 338.195312 113.671875 L 330.902344 136.125 Z M 319.097656 127.546875 \"/>\n",
       "<path style=\" stroke:none;fill-rule:nonzero;fill:rgb(23.676875%,48.894904%,87.616694%);fill-opacity:0.5;\" d=\"M 330.902344 136.125 L 335.410156 150 L 350 150 Z M 330.902344 136.125 \"/>\n",
       "<path style=\" stroke:none;fill-rule:nonzero;fill:rgb(46.0725%,48.260355%,59.156161%);fill-opacity:0.5;\" d=\"M 335.410156 150 L 311.804688 150 L 330.902344 136.125 Z M 335.410156 150 \"/>\n",
       "<path style=\" stroke:none;fill-rule:nonzero;fill:rgb(98.145971%,80.963251%,14.736003%);fill-opacity:0.5;\" d=\"M 319.097656 127.546875 L 311.804688 150 L 330.902344 136.125 Z M 319.097656 127.546875 \"/>\n",
       "</g>\n",
       "</svg>\n"
      ]
     },
     "metadata": {},
     "output_type": "display_data"
    }
   ],
   "source": [
    "@svg begin\n",
    "    initialtriangles = initialize(O, 10)\n",
    "    \n",
    "    for triangle in initialtriangles\n",
    "        poly([triangle.A, triangle.B, triangle.C], close=true, :stroke)\n",
    "    end\n",
    "    \n",
    "    triangles = subdivide(initialtriangles)\n",
    "    triangles = subdivide(triangles)\n",
    "    triangles = subdivide(triangles)\n",
    "\n",
    "    setopacity(0.5)\n",
    "    \n",
    "    for triangle in triangles\n",
    "        randomhue()\n",
    "        poly([triangle.A, triangle.B, triangle.C], close=true, :fill)\n",
    "    end\n",
    "    end 500 300 \"figure3\""
   ]
  },
  {
   "cell_type": "markdown",
   "metadata": {},
   "source": [
    "This provides the basis for our Penrose-inspired design."
   ]
  },
  {
   "cell_type": "markdown",
   "metadata": {},
   "source": [
    "## Colouring the triangles"
   ]
  },
  {
   "cell_type": "markdown",
   "metadata": {},
   "source": [
    "A Penrose tiling can be thought of as a planar map, and the [Four-colour Theorem](https://en.wikipedia.org/wiki/Four_color_theorem) says that any map of the plane can be coloured using at most 4 colours. Here, a map colouring is one in which neighbouring \"countries\" are coloured by different colours if they are joined by an edge (not just a point).\n",
    "\n",
    "Since there are 4 colours in the Julia logo, we decided to find the perfect colouring of our Penrose tiling using the Julia colours!"
   ]
  },
  {
   "cell_type": "markdown",
   "metadata": {},
   "source": [
    "### Mapping to a graph"
   ]
  },
  {
   "cell_type": "markdown",
   "metadata": {},
   "source": [
    "To do so, we think of the collection of triangles as a **graph** or **network**, i.e. a collection of vertices joined by edges. We need to find the **adjacency matrix** of the graph, i.e. a matrix $A_{ij}$ which contains $1$ if nodes $i$ and $j$ are connected, and $0$ if they are not connected.\n",
    "\n",
    "The problem is that the inflation&ndash;deflation method that we are using to construct the triangles gives us no information about which triangles are neighbours (at least, we are not aware of how to directly extract this information from the construction).\n",
    "\n",
    "Hence, the first thing to do is to extract the adjacency matrix, for which we just use brute force: given two triangles, we calculate the distances between each of their vertices. If exactly two of these distances are (approximately) zero, then those two vertices coincide, and hence the two triangles share an edge:"
   ]
  },
  {
   "cell_type": "code",
   "execution_count": null,
   "metadata": {},
   "outputs": [],
   "source": []
  },
  {
   "cell_type": "code",
   "execution_count": 16,
   "metadata": {},
   "outputs": [
    {
     "data": {
      "text/plain": [
       "incidence_matrix (generic function with 1 method)"
      ]
     },
     "execution_count": 16,
     "metadata": {},
     "output_type": "execute_result"
    }
   ],
   "source": [
    "using SimpleGraphs\n",
    "\n",
    "function incidence_matrix(triangles::Vector{Triangle})\n",
    "\n",
    "    n = length(triangles)\n",
    "\n",
    "    g = IntGraph(n)\n",
    "\n",
    "    for i in 1:n\n",
    "        for j in i+1:n\n",
    "            ti = triangles[i]\n",
    "            tj = triangles[j]\n",
    "\n",
    "            points_i = [ti.A, ti.B, ti.C]\n",
    "            points_j = [tj.A, tj.B, tj.C]\n",
    "\n",
    "            coincidental = 0\n",
    "            tol = 1e-2\n",
    "\n",
    "            for k in 1:3, l in 1:3\n",
    "                if distance(points_i[k], points_j[l]) < tol\n",
    "                    coincidental += 1\n",
    "                end\n",
    "            end\n",
    "\n",
    "            if coincidental == 2  # share edge\n",
    "                add!(g, i, j)\n",
    "            end\n",
    "        end\n",
    "    end\n",
    "\n",
    "    return g\n",
    "end"
   ]
  },
  {
   "cell_type": "code",
   "execution_count": 17,
   "metadata": {},
   "outputs": [
    {
     "data": {
      "text/plain": [
       "SimpleGraph{Int64} (n=210, m=300)"
      ]
     },
     "execution_count": 17,
     "metadata": {},
     "output_type": "execute_result"
    }
   ],
   "source": [
    "g = incidence_matrix(triangles)"
   ]
  },
  {
   "cell_type": "markdown",
   "metadata": {},
   "source": [
    "FIGURE OF THE GRAPH SUPERIMPOSED ON THE TRIANGLES: JOIN THE CENTROID OF ADJACENT TRIANGLES WITH A LINE"
   ]
  },
  {
   "cell_type": "code",
   "execution_count": 21,
   "metadata": {},
   "outputs": [
    {
     "data": {
      "text/plain": [
       "210-element Array{Int64,1}:\n",
       "   1\n",
       "   2\n",
       "   3\n",
       "   4\n",
       "   5\n",
       "   6\n",
       "   7\n",
       "   8\n",
       "   9\n",
       "  10\n",
       "  11\n",
       "  12\n",
       "  13\n",
       "   ⋮\n",
       " 199\n",
       " 200\n",
       " 201\n",
       " 202\n",
       " 203\n",
       " 204\n",
       " 205\n",
       " 206\n",
       " 207\n",
       " 208\n",
       " 209\n",
       " 210"
      ]
     },
     "execution_count": 21,
     "metadata": {},
     "output_type": "execute_result"
    }
   ],
   "source": [
    "vlist(g)"
   ]
  },
  {
   "cell_type": "code",
   "execution_count": null,
   "metadata": {},
   "outputs": [],
   "source": []
  },
  {
   "cell_type": "markdown",
   "metadata": {},
   "source": [
    "### Colouring the graph\n",
    "\n",
    "Finally, we want to find a **graph colouring** with the property that adjacent nodes do not share the same colour. This is accomplished by "
   ]
  },
  {
   "cell_type": "code",
   "execution_count": 9,
   "metadata": {},
   "outputs": [
    {
     "ename": "ErrorException",
     "evalue": "type Triangle has no field pointA",
     "output_type": "error",
     "traceback": [
      "type Triangle has no field pointA",
      "",
      "Stacktrace:",
      " [1] getproperty(::Any, ::Symbol) at ./sysimg.jl:18",
      " [2] incidence_matrix(::Array{Triangle,1}) at ./In[8]:14",
      " [3] top-level scope at In[9]:1"
     ]
    }
   ],
   "source": [
    "g = incidence_matrix(triangles)\n",
    "\n",
    "colouring = greedy_color(g, [1:n;])"
   ]
  },
  {
   "cell_type": "markdown",
   "metadata": {},
   "source": [
    "It turns out that for the Penrose tiling, there are rather few nodes that use the fourth colour (i.e. that have 3 neighbouring nodes). FIGURE\n",
    "\n",
    "To make the result visually more interesting, we randomly choose approximately a quarter of the nodes to have the 4th colour, provided that none of its neighbours have that colour:"
   ]
  },
  {
   "cell_type": "code",
   "execution_count": 10,
   "metadata": {},
   "outputs": [
    {
     "ename": "LoadError",
     "evalue": "syntax: incomplete: \"for\" at none:1 requires end",
     "output_type": "error",
     "traceback": [
      "syntax: incomplete: \"for\" at none:1 requires end",
      ""
     ]
    }
   ],
   "source": [
    "for i in 1:n ÷ 4\n",
    "    which = rand(1:n)\n",
    "    \n",
    "    if 4 ∉ [coloring[x] for x in neighbors(g, which)]\n",
    "        coloring[which] = 4\n",
    "    end\n",
    "fend"
   ]
  }
 ],
 "metadata": {
  "kernelspec": {
   "display_name": "Julia 1.1.0",
   "language": "julia",
   "name": "julia-1.1"
  },
  "language_info": {
   "file_extension": ".jl",
   "mimetype": "application/julia",
   "name": "julia",
   "version": "1.1.0"
  }
 },
 "nbformat": 4,
 "nbformat_minor": 2
}
