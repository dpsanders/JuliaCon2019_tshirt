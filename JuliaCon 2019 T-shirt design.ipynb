{
 "cells": [
  {
   "cell_type": "markdown",
   "metadata": {},
   "source": [
    "# Designing the JuliaCon 2019 T-shirt\n",
    "\n",
    "## @Cormullion and David P. Sanders"
   ]
  },
  {
   "cell_type": "markdown",
   "metadata": {},
   "source": [
    "@Cormullion was selected to design the JuliaCon 2019 T-shirt on the basis of his many contributions to design throughout the Julia ecosystem.\n",
    "\n",
    "After several designs were proposed, a [Penrose tiling](https://en.wikipedia.org/wiki/Penrose_tiling) was chosen.\n",
    "\n",
    "In this notebook we explain some of the steps in arriving at the final design.\n",
    "\n",
    "The drawing was done using the [`Luxor.jl`](https://github.com/JuliaGraphics/Luxor.jl) package."
   ]
  },
  {
   "cell_type": "markdown",
   "metadata": {},
   "source": [
    "## Penrose tilings"
   ]
  },
  {
   "cell_type": "markdown",
   "metadata": {},
   "source": [
    "A Penrose tiling is a tiling (covering) of the plane using two particular tile types:\n",
    "\n",
    "[FIG of tile types]\n",
    "\n",
    "The surprising thing is that the tiling turns out to be *quasiperiodic*: it never repeats itself, but does \"almost repeat itself\"."
   ]
  },
  {
   "cell_type": "markdown",
   "metadata": {},
   "source": [
    "A common method to produce Penrose tilings is the method of **inflation&ndash;deflation**:\n",
    "\n",
    "we start with a given set of tiles and recursively replace each tile with a certain combination of smaller tiles."
   ]
  },
  {
   "cell_type": "markdown",
   "metadata": {},
   "source": [
    "In this implementation, we build everything out of triangles, represented by the following `struct`. \n",
    "Here, `A`, `B` and `C` are the 3 points in the triangle, `Point` is a type from `Luxor` representing the coordinates of a point in 2D, and `flag` is a Boolean variable representing the \"type\" of triangle."
   ]
  },
  {
   "cell_type": "code",
   "execution_count": null,
   "metadata": {},
   "outputs": [],
   "source": [
    "using Luxor\n",
    "\n",
    "struct Triangle\n",
    "    flag::Bool \n",
    "    A::Point\n",
    "    B::Point\n",
    "    C::Point\n",
    "end"
   ]
  },
  {
   "cell_type": "markdown",
   "metadata": {},
   "source": [
    "We start by generating $n$ triangles in a circle with center $c$ and radius $r$. The `polar` function generates a vector with given radius and angle"
   ]
  },
  {
   "cell_type": "code",
   "execution_count": null,
   "metadata": {},
   "outputs": [],
   "source": [
    "function initialize(center::Point, n)\n",
    "    A = center\n",
    "\n",
    "    for i in 1:n\n",
    "        ϕ = (i - 1) * (2π / n)\n",
    "        C = A + polar(r, ϕ)\n",
    "        \n",
    "        ϕ = (i) * (2π / n)\n",
    "        B = A + polar(r, ϕ)\n",
    "        \n",
    "        if i % 2 == 1\n",
    "            triangle = Triangle(true, B, A, C)\n",
    "        else\n",
    "            triangle = PenroseTriangle(true, C, A, B)\n",
    "        end\n",
    "        \n",
    "        push!(triangles, triangle)\n",
    "    end\n",
    "    \n",
    "    return triangles\n",
    "end"
   ]
  },
  {
   "cell_type": "markdown",
   "metadata": {},
   "source": [
    "Let's draw those triangles:"
   ]
  },
  {
   "cell_type": "markdown",
   "metadata": {},
   "source": [
    "Now we subdivide recursively using the following function:"
   ]
  },
  {
   "cell_type": "code",
   "execution_count": null,
   "metadata": {},
   "outputs": [],
   "source": [
    "function subdivide(triangles::Vector{Triangle})\n",
    "    \n",
    "    result = Triangle[]\n",
    "    \n",
    "    for triangle in triangles\n",
    "        A, B, C = triangle.A, triangle.B, triangle.C\n",
    "\n",
    "        if triangle.flag\n",
    "            Q = A + (B - A) / MathConstants.golden\n",
    "            R = B + (C - B) / MathConstants.golden\n",
    "            \n",
    "            push!(result, Triangle(false, R, Q, B))\n",
    "            push!(result, Triangle(true,  Q, A, R))\n",
    "            push!(result, Triangle(true,  C, A, R))\n",
    "\n",
    "        else           \n",
    "            P = C + (A - C) / MathConstants.golden\n",
    "            \n",
    "            push!(result, Triangle(false, B, P, A))\n",
    "            push!(result, Triangle(true,  P, C, B))\n",
    "        end\n",
    "    end\n",
    "    \n",
    "    return result\n",
    "end"
   ]
  },
  {
   "cell_type": "markdown",
   "metadata": {},
   "source": [
    "Let's see the result of successive subdivisions (PREFERABLY SUPERIMPOSED SOMEHOW ON THE PREVIOUS ONE:)"
   ]
  },
  {
   "cell_type": "markdown",
   "metadata": {},
   "source": [
    "## Colouring the triangles"
   ]
  },
  {
   "cell_type": "markdown",
   "metadata": {},
   "source": [
    "A Penrose tiling can be thought of as a planar map, and the [Four-colour Theorem](https://en.wikipedia.org/wiki/Four_color_theorem) says that any map of the plane can be coloured using at most 4 colours. Here, a map colouring is one in which neighbouring \"countries\" are coloured by different colours if they are joined by an edge (not just a point).\n",
    "\n",
    "Since there are 4 colours in the Julia logo, it seemed like a good idea to find a colouring of the Penrose tiling using the Julia colours! "
   ]
  },
  {
   "cell_type": "markdown",
   "metadata": {},
   "source": [
    "### Mapping to a graph"
   ]
  },
  {
   "cell_type": "markdown",
   "metadata": {},
   "source": [
    "To do so, we think of the collection of triangles as a **graph** or **network**, i.e. a collection of vertices joined by edges. We need to find the **adjacency matrix** of the graph, i.e. a matrix $A_{ij}$ which contains $1$ if nodes $i$ and $j$ are connected, and $0$ if they are not connected.\n",
    "\n",
    "The problem is that the inflation&ndash;deflation method that we are using to construct the triangles gives us no information about which triangles are neighbours (at least, we are not aware of how to directly extract this information from the construction).\n",
    "\n",
    "Hence, the first thing to do is to extract the adjacency matrix, for which we just use brute force: given two triangles, we calculate the distances between each of their vertices. If exactly two of these distances are (approximately) zero, then those two vertices coincide, and hence the two triangles share an edge:"
   ]
  },
  {
   "cell_type": "code",
   "execution_count": null,
   "metadata": {},
   "outputs": [],
   "source": [
    "using SimpleGraphs\n",
    "\n",
    "function incidence_matrix(triangles::Vector{Triangle})\n",
    "\n",
    "    n = length(triangles)\n",
    "\n",
    "    g = IntGraph(n)\n",
    "\n",
    "    for i in 1:n\n",
    "        for j in i+1:n\n",
    "            ti = triangles[i]\n",
    "            tj = triangles[j]\n",
    "\n",
    "            points_i = [ti.pointA, ti.pointB, ti.pointC]\n",
    "            points_j = [tj.pointA, tj.pointB, tj.pointC]\n",
    "\n",
    "            coincide = 0\n",
    "            tol = 1e-2\n",
    "\n",
    "            for k in 1:3, l in 1:3\n",
    "                if distance(points_i[k], points_j[l]) < tol\n",
    "                    coincide += 1\n",
    "                end\n",
    "            end\n",
    "\n",
    "            if coincidental == 2  # share edge\n",
    "                add!(g, i, j)\n",
    "            end\n",
    "        end\n",
    "    end\n",
    "\n",
    "    return g\n",
    "end"
   ]
  },
  {
   "cell_type": "markdown",
   "metadata": {},
   "source": [
    "FIGURE OF THE GRAPH SUPERIMPOSED ON THE TRIANGLES: JOIN THE CENTROID OF ADJACENT TRIANGLES WITH A LINE"
   ]
  },
  {
   "cell_type": "markdown",
   "metadata": {},
   "source": [
    "### Colouring the graph\n",
    "\n",
    "Finally, we want to find a **graph colouring** with the property that adjacent nodes do not share the same colour. This is accomplished by "
   ]
  },
  {
   "cell_type": "code",
   "execution_count": 3,
   "metadata": {},
   "outputs": [
    {
     "ename": "UndefVarError",
     "evalue": "UndefVarError: incidence_matrix not defined",
     "output_type": "error",
     "traceback": [
      "UndefVarError: incidence_matrix not defined",
      "",
      "Stacktrace:",
      " [1] top-level scope at In[3]:1"
     ]
    }
   ],
   "source": [
    "g = incidence_matrix(triangles)\n",
    "\n",
    "colouring = greedy_color(g, [1:n;])"
   ]
  },
  {
   "cell_type": "markdown",
   "metadata": {},
   "source": [
    "It turns out that for the Penrose tiling, there are rather few nodes that use the fourth colour (i.e. that have 3 neighbouring nodes). FIGURE\n",
    "\n",
    "To make the result visually more interesting, we randomly choose approximately a quarter of the nodes to have the 4th colour, provided that none of its neighbours have that colour:"
   ]
  },
  {
   "cell_type": "code",
   "execution_count": null,
   "metadata": {},
   "outputs": [],
   "source": [
    "for i in 1:n ÷ 4\n",
    "    which = rand(1:n)\n",
    "    \n",
    "    if 4 ∉ [coloring[x] for x in neighbors(g, which)]\n",
    "        coloring[which] = 4\n",
    "    end\n",
    "fend"
   ]
  }
 ],
 "metadata": {
  "kernelspec": {
   "display_name": "Julia 1.1.0",
   "language": "julia",
   "name": "julia-1.1"
  },
  "language_info": {
   "file_extension": ".jl",
   "mimetype": "application/julia",
   "name": "julia",
   "version": "1.1.0"
  }
 },
 "nbformat": 4,
 "nbformat_minor": 2
}
